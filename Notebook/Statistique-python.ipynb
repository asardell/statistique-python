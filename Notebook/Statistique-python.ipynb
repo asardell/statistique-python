{
 "cells": [
  {
   "cell_type": "markdown",
   "metadata": {},
   "source": [
    "Le code source de ce cours est disponible sur https://github.com/asardell/statistique-python"
   ]
  },
  {
   "cell_type": "markdown",
   "metadata": {},
   "source": [
    "<font size=\"6\">  Test d'indépendance 🎲 avec Python </font>"
   ]
  },
  {
   "cell_type": "markdown",
   "metadata": {},
   "source": [
    "Les tests d'indépendances permettent de définir s'il existe un lien entre deux variables. Il existe différent test d'indépence, en voici quelques exemples :\n",
    "\n",
    "* Test indépendance entre deux variables quantitatives / Test de corrélation Pearson\n",
    "* Test d'indépendance entre deux variables qualitatives / Test du Chi²\n",
    "* Test d'indépendance entre une variable qualitative et une quantitative / Test de Fisher avec l'analyse de la variance (ANOVA)\n",
    "\n",
    "<br>\n",
    "\n",
    "Dans une démarche d'un projet de machine learning, les test d'indépendance permettent d'exclure des variables explicatives potentiellement non porteuses d'information."
   ]
  },
  {
   "cell_type": "markdown",
   "metadata": {},
   "source": [
    "Librairies utilisées"
   ]
  },
  {
   "cell_type": "code",
   "execution_count": null,
   "metadata": {},
   "outputs": [],
   "source": [
    "import matplotlib.pyplot as plt\n",
    "import seaborn as sns\n",
    "\n",
    "import numpy as np\n",
    "import pandas as pd\n",
    "\n",
    "from scipy.stats import pearsonr\n",
    "from scipy.stats import bartlett\n",
    "from scipy.stats import shapiro\n",
    "from scipy.stats import chi2_contingency\n",
    "from scipy.stats import kendalltau, spearmanr\n",
    "\n",
    "from sklearn.preprocessing import StandardScaler\n",
    "from sklearn.datasets import make_regression, make_circles\n",
    "\n",
    "import statsmodels.stats.multicomp as multi \n",
    "import statsmodels.api as sm\n",
    "from statsmodels.formula.api import ols\n"
   ]
  },
  {
   "cell_type": "markdown",
   "metadata": {},
   "source": [
    "# Test de corrélation Pearson"
   ]
  },
  {
   "cell_type": "markdown",
   "metadata": {},
   "source": [
    "L’intérêt des tests de corrélation est d’apporter plus de pertinence et fiabilité aux coefficients de corrélation. Il existe différents test de corrélation, nous utilisons celui de Pearson.\n",
    "\n",
    "On travaille avec le jeu de données fromage 🧀 disponible en [cliquant ici](https://github.com/asardell/statistique-python/tree/master/Dataset)"
   ]
  },
  {
   "cell_type": "code",
   "execution_count": null,
   "metadata": {},
   "outputs": [],
   "source": [
    "df = pd.read_table(\"../Dataset/fromage.txt\", index_col=0)\n",
    "df.head()"
   ]
  },
  {
   "cell_type": "markdown",
   "metadata": {},
   "source": [
    "Avant de réaliser des tests d'indépendance, on projette graphiquement les données 2 à 2"
   ]
  },
  {
   "cell_type": "code",
   "execution_count": null,
   "metadata": {},
   "outputs": [],
   "source": [
    "sns.pairplot(df.iloc[:,0:9])"
   ]
  },
  {
   "cell_type": "markdown",
   "metadata": {},
   "source": [
    "## Matrice des corrélations"
   ]
  },
  {
   "cell_type": "markdown",
   "metadata": {},
   "source": [
    "Voici la matrice des corrélations des variables du fichier fromage."
   ]
  },
  {
   "cell_type": "code",
   "execution_count": null,
   "metadata": {},
   "outputs": [],
   "source": [
    "sns.set(rc={'figure.figsize':(10,4)})\n",
    "\n",
    "df_corr = df.corr()\n",
    "\n",
    "ax = sns.heatmap(df_corr, xticklabels = df_corr.columns , \n",
    "                 yticklabels = df_corr.columns, cmap = 'coolwarm')"
   ]
  },
  {
   "cell_type": "markdown",
   "metadata": {},
   "source": [
    "L'intérêt des tests de corrélation est d'apporter plus de pertinence et fiabilité aux coefficients de corrélation. Il existe différents test de corrélation, nous utilisons celui de Pearson."
   ]
  },
  {
   "cell_type": "code",
   "execution_count": null,
   "metadata": {},
   "outputs": [],
   "source": [
    "from scipy.stats import pearsonr"
   ]
  },
  {
   "cell_type": "markdown",
   "metadata": {},
   "source": [
    "On pose les hypothèses de départ :\n",
    "\n",
    "* H0 : Variables indépendantes si p-value > 5%\n",
    "* H1 : Variables non indépendantes si p-value < 5%"
   ]
  },
  {
   "cell_type": "markdown",
   "metadata": {},
   "source": [
    "### Lipides vs Magnesium"
   ]
  },
  {
   "cell_type": "markdown",
   "metadata": {},
   "source": [
    "La première sortie correspond au coefficient de corrélation, la seconde à la p-value (ou probabilité critique)"
   ]
  },
  {
   "cell_type": "code",
   "execution_count": null,
   "metadata": {},
   "outputs": [],
   "source": [
    "pearsonr(df.lipides, df.magnesium)"
   ]
  },
  {
   "cell_type": "markdown",
   "metadata": {},
   "source": [
    "~H0 : Variables indépendantes si p-value > 5%~\n",
    "<br> H1 : Variables non indépendantes si p-value < 5%"
   ]
  },
  {
   "cell_type": "markdown",
   "metadata": {},
   "source": [
    "### Sodium vs Retinol"
   ]
  },
  {
   "cell_type": "code",
   "execution_count": null,
   "metadata": {},
   "outputs": [],
   "source": [
    "pearsonr(df.sodium, df.retinol)"
   ]
  },
  {
   "cell_type": "markdown",
   "metadata": {},
   "source": [
    "H0 : Variables indépendantes si p-value > 5%\n",
    "<br> ~H1 : Variables non indépendantes si p-value < 5%~ <br>\n",
    "Si on veut rejeter H0 et prendre H1, j'ai 45,5% de chance de me tromper"
   ]
  },
  {
   "cell_type": "markdown",
   "metadata": {},
   "source": [
    "📢 Les tests statistiques sont trés sensibles à la taille de l'échantillon. \n",
    "Un coefficient de corrélation de 0.14 n'aura pas la même significativité sur un échantillon de 29 fromages qu'un échantillon de 319 fromages avec le même coefficient de corrélation."
   ]
  },
  {
   "cell_type": "markdown",
   "metadata": {},
   "source": [
    "On construit un daatframe en duppliquant le nombre de lignes"
   ]
  },
  {
   "cell_type": "code",
   "execution_count": null,
   "metadata": {},
   "outputs": [],
   "source": [
    "df_append = df.copy()\n",
    "df_append.reset_index(inplace=True)\n",
    "df_append = df_append.append([df_append]*10,ignore_index=True)\n",
    "df_append.shape"
   ]
  },
  {
   "cell_type": "markdown",
   "metadata": {},
   "source": [
    "Chaque fromage apparaît plusieurs fois, on a augmenté la taille de l'échantillon"
   ]
  },
  {
   "cell_type": "code",
   "execution_count": null,
   "metadata": {},
   "outputs": [],
   "source": [
    "df_append.Fromages.value_counts().head()"
   ]
  },
  {
   "cell_type": "markdown",
   "metadata": {},
   "source": [
    "On effectue un autre test de corrélation avec les mêmes variables sur l'échantillon plus grand."
   ]
  },
  {
   "cell_type": "code",
   "execution_count": null,
   "metadata": {},
   "outputs": [],
   "source": [
    "pearsonr(df_append.sodium, df_append.retinol)"
   ]
  },
  {
   "cell_type": "markdown",
   "metadata": {},
   "source": [
    "~H0 : Variables indépendantes si p-value > 5%~\n",
    "<br> H1 : Variables non indépendantes si p-value < 5% <br>"
   ]
  },
  {
   "cell_type": "markdown",
   "metadata": {},
   "source": [
    "On obtient logiquement le même coefficient de corrélation, mais en revanche, cette fois si la p-value est proche de 0."
   ]
  },
  {
   "cell_type": "markdown",
   "metadata": {},
   "source": [
    "###  Matrice des p-values"
   ]
  },
  {
   "cell_type": "markdown",
   "metadata": {},
   "source": [
    "On effectue un test de corrélation sur chaque variable 2 à 2 en isolant uniquement la p-value"
   ]
  },
  {
   "cell_type": "code",
   "execution_count": null,
   "metadata": {},
   "outputs": [],
   "source": [
    "a = np.empty((len(df.columns),len(df.columns),))\n",
    "a[:] = np.nan\n",
    "for i in range(0,len(df.columns)):\n",
    "    for j in range(0,len(df.columns)):\n",
    "        a[i,j] = pearsonr(df.iloc[:,i], df.iloc[:,j])[1]\n",
    "\n",
    "df_pvalue = round(pd.DataFrame(a, columns=df.columns, index = df.columns),5)"
   ]
  },
  {
   "cell_type": "markdown",
   "metadata": {},
   "source": [
    "On affiche la matrice des corrélations avec un gradiant de couleur"
   ]
  },
  {
   "cell_type": "code",
   "execution_count": null,
   "metadata": {},
   "outputs": [],
   "source": [
    "cm = sns.light_palette(\"green\", as_cmap=True) \n",
    "\n",
    "df_pvalue.\\\n",
    "style.background_gradient(cmap=cm).set_precision(2)"
   ]
  },
  {
   "cell_type": "markdown",
   "metadata": {},
   "source": [
    "💡 Obtient-on les mêmes p-value si on centre et on réduit ?"
   ]
  },
  {
   "cell_type": "markdown",
   "metadata": {},
   "source": [
    "On centre et on réduit"
   ]
  },
  {
   "cell_type": "code",
   "execution_count": null,
   "metadata": {},
   "outputs": [],
   "source": [
    "from sklearn.preprocessing import StandardScaler\n",
    "df_CR = StandardScaler().fit_transform(df)\n",
    "df_CR = pd.DataFrame(df_CR, columns=df.columns)\n",
    "df_CR.head(3)"
   ]
  },
  {
   "cell_type": "markdown",
   "metadata": {},
   "source": [
    "On calcule les test de corrélation"
   ]
  },
  {
   "cell_type": "code",
   "execution_count": null,
   "metadata": {},
   "outputs": [],
   "source": [
    "for i in range(0,len(df.columns)):\n",
    "    for j in range(0,len(df.columns)):\n",
    "        a[i,j] = pearsonr(df_CR.iloc[:,i], df_CR.iloc[:,j])[1]\n",
    "\n",
    "df_CR_pvalue = round(pd.DataFrame(a, columns=df.columns, index = df.columns),5)"
   ]
  },
  {
   "cell_type": "markdown",
   "metadata": {},
   "source": [
    "On affiche la matrice des p-value"
   ]
  },
  {
   "cell_type": "code",
   "execution_count": null,
   "metadata": {},
   "outputs": [],
   "source": [
    "cm = sns.light_palette(\"green\", as_cmap=True) \n",
    "\n",
    "df_CR_pvalue.\\\n",
    "style.background_gradient(cmap=cm).set_precision(2)"
   ]
  },
  {
   "cell_type": "markdown",
   "metadata": {},
   "source": [
    "💡 On obtient bien les mêmes p-value si on centre et on réduit"
   ]
  },
  {
   "cell_type": "markdown",
   "metadata": {},
   "source": [
    "## ⛔ Cas de relation non linéaire"
   ]
  },
  {
   "cell_type": "markdown",
   "metadata": {},
   "source": [
    "Les différents coefficients de corrélation sont beaucoup plus adaptés aux relation linéaire. C’est pourquoi il est important de toujours visualiser les distributions.\n",
    "\n",
    "Plus d'infos [ici](http://grasland.script.univ-paris-diderot.fr/STAT98/stat98_6/stat98_6.htm)"
   ]
  },
  {
   "cell_type": "code",
   "execution_count": null,
   "metadata": {},
   "outputs": [],
   "source": [
    "from sklearn.datasets import make_regression, make_circles\n",
    "from scipy.stats import kendalltau, spearmanr"
   ]
  },
  {
   "cell_type": "markdown",
   "metadata": {},
   "source": [
    "### Cas d'une relation linéaire et monotone"
   ]
  },
  {
   "cell_type": "code",
   "execution_count": null,
   "metadata": {},
   "outputs": [],
   "source": [
    "X, y = make_regression(n_samples=1000, n_features=1,\n",
    "                                      n_informative=1, noise=50, random_state=0)\n",
    "\n",
    "plt.scatter(X, y, edgecolor='k', marker='.')\n",
    "x = pd.DataFrame(X, columns = ['x'])\n",
    "y = pd.DataFrame(y, columns = ['y'])"
   ]
  },
  {
   "cell_type": "code",
   "execution_count": null,
   "metadata": {},
   "outputs": [],
   "source": [
    "print(\"Pearson \" + str(pearsonr(x.x, y.y)))\n",
    "print(kendalltau(x.x, y.y))\n",
    "print(spearmanr(x.x, y.y))"
   ]
  },
  {
   "cell_type": "markdown",
   "metadata": {},
   "source": [
    "### Cas d'une relation non-linéaire et non-monotone"
   ]
  },
  {
   "cell_type": "markdown",
   "metadata": {},
   "source": [
    "La parabole "
   ]
  },
  {
   "cell_type": "code",
   "execution_count": null,
   "metadata": {},
   "outputs": [],
   "source": [
    "X_hyperbole = X[X.y < 0]\n",
    "fig = plt.figure(figsize=(9, 8))\n",
    "ax = plt.subplot(221)\n",
    "ax.scatter(X_hyperbole.x, X_hyperbole.y, s=50, edgecolor='k')\n",
    "plt.show()\n",
    "\n",
    "print(\"Pearson \" + str(pearsonr(X_hyperbole.x, X_hyperbole.y)))\n",
    "print(kendalltau(X_hyperbole.x, X_hyperbole.y))\n",
    "print(spearmanr(X_hyperbole.x, X_hyperbole.y))"
   ]
  },
  {
   "cell_type": "markdown",
   "metadata": {},
   "source": [
    "Le cercle"
   ]
  },
  {
   "cell_type": "code",
   "execution_count": null,
   "metadata": {},
   "outputs": [],
   "source": [
    "X = make_circles(n_samples=100,factor=0.99, random_state=0, noise=0.05)[0]\n",
    "X = pd.DataFrame(X, columns=['x','y'])\n",
    "fig = plt.figure(figsize=(9, 8))\n",
    "ax = plt.subplot(221)\n",
    "ax.scatter(X.x, X.y, s=50, edgecolor='k')\n",
    "plt.show()\n",
    "\n",
    "print(\"Pearson \" + str(pearsonr(X.x, X.y)))\n",
    "print(kendalltau(X.x, X.y))\n",
    "print(spearmanr(X.x, X.y))"
   ]
  },
  {
   "cell_type": "markdown",
   "metadata": {},
   "source": [
    "# Test du Khi²"
   ]
  },
  {
   "cell_type": "markdown",
   "metadata": {},
   "source": [
    "L'intérêt du test du Khi² est de mesurer l'indépendance entre deux variables qualitatives à partir du tableau de contigence."
   ]
  },
  {
   "cell_type": "markdown",
   "metadata": {},
   "source": [
    "On travaille sur le jeu de données Titanic 🧊⛴ disponible en [cliquant ici](https://github.com/asardell/statistique-python/tree/master/Dataset)"
   ]
  },
  {
   "cell_type": "code",
   "execution_count": null,
   "metadata": {},
   "outputs": [],
   "source": [
    "df = pd.read_csv(\"../Dataset/Titanic.csv\", index_col=0)\n",
    "df.head()"
   ]
  },
  {
   "cell_type": "code",
   "execution_count": null,
   "metadata": {},
   "outputs": [],
   "source": [
    "df_count = pd.crosstab(df.Survived, df.PClass)\n",
    "df_count"
   ]
  },
  {
   "cell_type": "markdown",
   "metadata": {},
   "source": [
    "On pose les hypothèses de départ :\n",
    "\n",
    "* H0 : Variables indépendantes si p-value > 5%\n",
    "* H1 : Variables non indépendantes si p-value < 5%"
   ]
  },
  {
   "cell_type": "markdown",
   "metadata": {},
   "source": [
    "### Survived vs PClass"
   ]
  },
  {
   "cell_type": "code",
   "execution_count": null,
   "metadata": {},
   "outputs": [],
   "source": [
    "from scipy.stats import chi2_contingency\n",
    "Khi2_obs, p_value, ddl, effectif_theorique = chi2_contingency(df_count)"
   ]
  },
  {
   "cell_type": "code",
   "execution_count": null,
   "metadata": {},
   "outputs": [],
   "source": [
    "p_value"
   ]
  },
  {
   "cell_type": "markdown",
   "metadata": {},
   "source": [
    "H0 : Variables indépendantes si p-value > 5%\n",
    "<br> ~H1 : Variables non indépendantes si p-value < 5%~\n"
   ]
  },
  {
   "cell_type": "markdown",
   "metadata": {},
   "source": [
    "### Exemple sur données fictives"
   ]
  },
  {
   "cell_type": "code",
   "execution_count": null,
   "metadata": {},
   "outputs": [],
   "source": [
    "obs = np.array([[693,886,534,153], [597,696,448,95]])\n",
    "chi2_contingency(obs)"
   ]
  },
  {
   "cell_type": "markdown",
   "metadata": {},
   "source": [
    "H0 : Variables indépendantes si p-value > 5%\n",
    "<br> ~H1 : Variables non indépendantes si p-value < 5%~ <br>\n",
    "Si on veut rejeter H0 et prendre H1, j'ai 10,9% de chance de me tromper"
   ]
  },
  {
   "cell_type": "markdown",
   "metadata": {},
   "source": [
    "Le 10,9% correspond à la probabilité de rejeter à tord H0. Comment la calculer ?"
   ]
  },
  {
   "cell_type": "markdown",
   "metadata": {},
   "source": [
    " Lecture dans la table du Chi2"
   ]
  },
  {
   "cell_type": "code",
   "execution_count": null,
   "metadata": {},
   "outputs": [],
   "source": [
    "from scipy.stats import chi2\n",
    "J = df = np.arange(1,5,1)\n",
    "I = np.arange(0.05,0.15,0.005)\n",
    "\n",
    "a = np.empty((len(J),len(I)))\n",
    "a[:] = np.nan\n",
    "\n",
    "for i in range(0,len(I)):\n",
    "    for j in range(0,len(J)):\n",
    "        a[j,i] = chi2.isf(I[i], J[j])\n",
    "        \n",
    "df_chi2 = round(pd.DataFrame(a, columns=I, index = J),5)\n",
    "df_chi2"
   ]
  },
  {
   "cell_type": "markdown",
   "metadata": {},
   "source": [
    "On cherche quelle est la probabilité critique pour laquelle **Khi2_obs** < Khi2_max de la table sur la ligne correspond à notre nombre de degré de liberté **ddl**"
   ]
  },
  {
   "cell_type": "markdown",
   "metadata": {},
   "source": [
    "### 📢 Taille de l'échantillon"
   ]
  },
  {
   "cell_type": "markdown",
   "metadata": {},
   "source": [
    "Les tests d'indépendance sont trés sensibles à la taille des échantillons. Ici on divise par 100 pour avoir des effectifs faibles mais en conservant les répartitions."
   ]
  },
  {
   "cell_type": "code",
   "execution_count": null,
   "metadata": {},
   "outputs": [],
   "source": [
    "chi2_contingency(obs/100)"
   ]
  },
  {
   "cell_type": "markdown",
   "metadata": {},
   "source": [
    "H0 : Variables indépendantes si p-value > 5%\n",
    "<br> ~H1 : Variables non indépendantes si p-value < 5%~ <br>"
   ]
  },
  {
   "cell_type": "markdown",
   "metadata": {},
   "source": [
    "Ici on multiplie par 100 pour avoir des effectifs grands mais en conservant les répartitions."
   ]
  },
  {
   "cell_type": "code",
   "execution_count": null,
   "metadata": {
    "scrolled": true
   },
   "outputs": [],
   "source": [
    "chi2_contingency(obs*100)"
   ]
  },
  {
   "cell_type": "markdown",
   "metadata": {},
   "source": [
    "~H0 : Variables indépendantes si p-value > 5%~\n",
    "<br> H1 : Variables non indépendantes si p-value < 5%"
   ]
  },
  {
   "cell_type": "markdown",
   "metadata": {},
   "source": [
    "# ANOVA"
   ]
  },
  {
   "cell_type": "markdown",
   "metadata": {},
   "source": [
    "## Anova à 1 facteur"
   ]
  },
  {
   "cell_type": "markdown",
   "metadata": {},
   "source": [
    "On effectue une analyse de variance pour mesurer l’indépendance entre une variable qualitative et une quantitative."
   ]
  },
  {
   "cell_type": "markdown",
   "metadata": {},
   "source": [
    "Exemple sur le dataset Hotdogs 🌭 disponible en [cliquant ici](https://github.com/asardell/statistique-python/tree/master/Dataset)."
   ]
  },
  {
   "cell_type": "code",
   "execution_count": null,
   "metadata": {},
   "outputs": [],
   "source": [
    "df = pd.read_csv(\"../Dataset/Hotdogs.csv\", sep = \";\")\n",
    "df.head()"
   ]
  },
  {
   "cell_type": "code",
   "execution_count": null,
   "metadata": {},
   "outputs": [],
   "source": [
    "df.Type.unique()"
   ]
  },
  {
   "cell_type": "markdown",
   "metadata": {},
   "source": [
    "On va tester l’indépendance entre la variable qualitative Type et la variable quantitatives Calories."
   ]
  },
  {
   "cell_type": "code",
   "execution_count": null,
   "metadata": {},
   "outputs": [],
   "source": [
    "plt.subplots(figsize=(20,4))\n",
    "ax = sns.boxplot(x=\"Calories\", y=\"Type\", data=df)"
   ]
  },
  {
   "cell_type": "markdown",
   "metadata": {},
   "source": [
    "Dans une ANOVA, on cherche à déterminer si les moyennes des groupes sont significativement différentes. On pose donc :\n",
    "\n",
    "* H0 : Les moyennes de chaque groupe sont égales si p-value > 5%\n",
    "* H1 : Les moyennes de chaque groupe ne sont pas toutes égales si p-value < 5%"
   ]
  },
  {
   "cell_type": "code",
   "execution_count": null,
   "metadata": {},
   "outputs": [],
   "source": [
    "import statsmodels.api as sm\n",
    "from statsmodels.formula.api import ols\n",
    "model = ols('Calories ~ Type', data=df).fit()\n",
    "anova_table = sm.stats.anova_lm(model, typ=2)\n",
    "anova_table"
   ]
  },
  {
   "cell_type": "markdown",
   "metadata": {},
   "source": [
    "~H0 : Les moyennes de chaque groupe sont égales si p-value > 5%~\n",
    "<br> H1 : Les moyennes de chaque groupe ne sont pas toutes égales < 5%"
   ]
  },
  {
   "cell_type": "markdown",
   "metadata": {},
   "source": [
    "Quand on dispose d’un petit échantillon, la pertinence de ce test repose sur la validation de plusieurs hypothèses :\n",
    "\n",
    "* l’indépendance entre les échantillons de chaque groupe\n",
    "* l’égalité des variances que l’on peut verifier avec un test de Bartlett.\n",
    "* la normalité des résidus avec un test de Shapiro."
   ]
  },
  {
   "cell_type": "markdown",
   "metadata": {},
   "source": [
    "### L'indépendance"
   ]
  },
  {
   "cell_type": "markdown",
   "metadata": {},
   "source": [
    "L’indépendance est une des 3 conditions de validité d’une ANOVA. Seul le contexte de l’étude permet de s’assurer de l’indépendance entre les échantillons de chaque groupe (ici beef, poultry, chicken.)"
   ]
  },
  {
   "cell_type": "markdown",
   "metadata": {},
   "source": [
    "### L’égalité des variances"
   ]
  },
  {
   "cell_type": "markdown",
   "metadata": {},
   "source": [
    "On parle aussi d’homoscédasticité. C’est une des 3 conditions de validité d’une ANOVA. On cherche à démontrer que les variances de chaque groupe sont égales. Dans un boxplot, l’amplitude des boîtes traduit graphiquement l’égalité des variances."
   ]
  },
  {
   "cell_type": "code",
   "execution_count": null,
   "metadata": {},
   "outputs": [],
   "source": [
    "plt.subplots(figsize=(20,4))\n",
    "ax = sns.boxplot(x=\"Calories\", y=\"Type\", data=df)"
   ]
  },
  {
   "cell_type": "code",
   "execution_count": null,
   "metadata": {},
   "outputs": [],
   "source": [
    "df.groupby(\"Type\")['Calories'].agg('var')"
   ]
  },
  {
   "cell_type": "markdown",
   "metadata": {},
   "source": [
    "Mais c’est le test de bartlett qui permet de tester si les variances sont significativement différentes ou non avec :\n",
    "\n",
    "* H0 : Les variances de chaque groupe sont égales si p-value > 5%\n",
    "* H1 : Les variances de chaque groupe ne sont pas toutes égales < 5%"
   ]
  },
  {
   "cell_type": "code",
   "execution_count": null,
   "metadata": {},
   "outputs": [],
   "source": [
    "bartlett(df.Calories[df.Type == 'Beef'],\n",
    "        df.Calories[df.Type == 'Meat'],\n",
    "        df.Calories[df.Type == 'Poultry'])"
   ]
  },
  {
   "cell_type": "markdown",
   "metadata": {},
   "source": [
    "* H0 : Les variances de chaque groupe sont égales si p-value > 5%\n",
    "* ~H1 : Les variances de chaque groupe ne sont pas toutes égales < 5%~\n",
    "\n",
    "Les variances de chaque groupe sont égales. La deuxième condition pour effectuer une anova est validée."
   ]
  },
  {
   "cell_type": "markdown",
   "metadata": {},
   "source": [
    "### Normalité des résidus"
   ]
  },
  {
   "cell_type": "markdown",
   "metadata": {},
   "source": [
    "C’est une des 3 conditions de validité d’une ANOVA. L’objectif est de s’assurer que les résidus suivent une loi normale afin de ne pas affirmer qu’il existe une différence de moyenne entre les groupes qui serait causée par le hasard.\n",
    "\n",
    "On utilise le test de Shapiro-Wilk pour tester la normalité des résidus où :\n",
    "\n",
    "* H0 : Les résidus suivent une loi normale si p-value > 5%\n",
    "* H1 : Les résidus ne suivent pas une loi normale si p-value < 5%"
   ]
  },
  {
   "cell_type": "code",
   "execution_count": null,
   "metadata": {},
   "outputs": [],
   "source": [
    "from scipy.stats import shapiro\n",
    "model = ols('Calories ~ Type', data=df).fit()\n",
    "shapiro(model.resid)"
   ]
  },
  {
   "cell_type": "markdown",
   "metadata": {},
   "source": [
    "* ~H0 : Les résidus suivent une loi normale si p-value > 5%~\n",
    "* H1 : Les résidus ne suivent pas une loi normale si p-value < 5%"
   ]
  },
  {
   "cell_type": "markdown",
   "metadata": {},
   "source": [
    "Néanmoins, les conclusions dépendent également tu risques qu'on souhaite. Si on veut  1% de chance de se tromper, alors on ne rejette pas H0 car la p-value > 1%"
   ]
  },
  {
   "cell_type": "markdown",
   "metadata": {},
   "source": [
    "### Cas de variances égales entre chaque groupe"
   ]
  },
  {
   "cell_type": "code",
   "execution_count": null,
   "metadata": {},
   "outputs": [],
   "source": [
    "A = pd.Series(np.linspace(1,10,9), name='A')\n",
    "B = pd.Series(np.linspace(31,40,9), name='B')\n",
    "C = pd.Series(np.linspace(51,60,9), name='C')\n",
    "Groupe = pd.Series(['A', 'B', 'C']).repeat(9).to_list()\n",
    "\n",
    "frame = { 'Groupe': Groupe, 'Valeur': pd.concat([A, B, C]) } \n",
    "result = pd.DataFrame(frame) \n",
    "plt.subplots(figsize=(20,4))\n",
    "ax = sns.boxplot(x=\"Valeur\", y=\"Groupe\", data=result)"
   ]
  },
  {
   "cell_type": "markdown",
   "metadata": {},
   "source": [
    "On s'interesse au variance de chaque groupe"
   ]
  },
  {
   "cell_type": "code",
   "execution_count": null,
   "metadata": {},
   "outputs": [],
   "source": [
    "result.groupby(\"Groupe\")['Valeur'].agg('var')"
   ]
  },
  {
   "cell_type": "markdown",
   "metadata": {},
   "source": [
    "Le test de bartlett permet de tester si les variances sont significativement différentes ou non"
   ]
  },
  {
   "cell_type": "code",
   "execution_count": null,
   "metadata": {},
   "outputs": [],
   "source": [
    "from scipy.stats import bartlett\n",
    "bartlett(A, B, C)"
   ]
  },
  {
   "cell_type": "markdown",
   "metadata": {},
   "source": [
    "H0 : Les variances de chaque groupe sont égales si p-value > 5%\n",
    "<br> ~H1 : Les variances de chaque groupe ne sont pas toutes égales < 5%~\n",
    "<br> On peut donc faire une ANOVA"
   ]
  },
  {
   "cell_type": "code",
   "execution_count": null,
   "metadata": {},
   "outputs": [],
   "source": [
    "import statsmodels.api as sm\n",
    "from statsmodels.formula.api import ols"
   ]
  },
  {
   "cell_type": "markdown",
   "metadata": {},
   "source": [
    "A travers l'analyse de la variance on cherche à déterminer si : <br>\n",
    "H0 : Les moyennes de chaque groupe sont égales si p-value > 5%\n",
    "<br> H1 : Les moyennes de chaque groupe ne sont pas toutes égales < 5%"
   ]
  },
  {
   "cell_type": "code",
   "execution_count": null,
   "metadata": {},
   "outputs": [],
   "source": [
    "model = ols('Valeur ~ Groupe', data=result).fit()\n",
    "anova_table = sm.stats.anova_lm(model, typ=2)\n",
    "anova_table"
   ]
  },
  {
   "cell_type": "markdown",
   "metadata": {},
   "source": [
    "~H0 : Les moyennes de chaque groupe sont égales si p-value > 5%~\n",
    "<br> H1 : Les moyennes de chaque groupe ne sont pas toutes égales < 5%"
   ]
  },
  {
   "cell_type": "markdown",
   "metadata": {},
   "source": [
    "### Cas de variances inégales entre chaque groupe"
   ]
  },
  {
   "cell_type": "code",
   "execution_count": null,
   "metadata": {},
   "outputs": [],
   "source": [
    "A = pd.Series(np.linspace(1,7,9), name='A')\n",
    "B = pd.Series(np.linspace(31,50,9), name='B')\n",
    "C = pd.Series(np.linspace(50,100,9), name='C')\n",
    "Groupe = pd.Series(['A', 'B', 'C']).repeat(9).to_list()\n",
    "\n",
    "frame = { 'Groupe': Groupe, 'Valeur': pd.concat([A, B, C]) } \n",
    "result = pd.DataFrame(frame) \n",
    "plt.subplots(figsize=(20,4))\n",
    "ax = sns.boxplot(x=\"Valeur\", y=\"Groupe\", data=result)"
   ]
  },
  {
   "cell_type": "code",
   "execution_count": null,
   "metadata": {},
   "outputs": [],
   "source": [
    "bartlett(A, B, C)"
   ]
  },
  {
   "cell_type": "markdown",
   "metadata": {},
   "source": [
    "~H0 : Les variances de chaque groupe sont égales si p-value > 5%~\n",
    "<br> H1 : Les variances de chaque groupe ne sont pas toutes égales < 5%\n",
    "<br> Il n'est donc pas conseillé de réaliser une ANOVA car les résultats ne seraient pas fiables."
   ]
  },
  {
   "cell_type": "markdown",
   "metadata": {},
   "source": [
    "## Anova à 2 facteurs"
   ]
  },
  {
   "cell_type": "markdown",
   "metadata": {},
   "source": [
    "Même principe que l'Anova à un facteur sauf qu'on ajoute un autre facteur. L'idée est de tester l'indépendance de ces facteurs sur une variable quantitative continue "
   ]
  },
  {
   "cell_type": "markdown",
   "metadata": {},
   "source": [
    "On utilise le dataset ToothGrowth disponible en [cliquant ici](https://github.com/asardell/statistique-python/tree/master/Dataset). On étudie la longueur des odontoblastes (cellules responsables de la croissance dentaire) chez 60 cobayes. Chaque animal a reçu l'une des trois doses de vitamine C (0,5, 1 et 2 mg / jour) par l'une des deux méthodes d'administration, du jus d'orange ou de l'acide ascorbique (une forme de vitamine C et codée VC) :\n",
    "\n",
    "* len : lLongueur de la dent\n",
    "* supp : supplément (VC ou OJ).\n",
    "* dose : dose en milligrammes / jour"
   ]
  },
  {
   "cell_type": "code",
   "execution_count": null,
   "metadata": {},
   "outputs": [],
   "source": [
    "df = pd.read_csv(\"../Dataset/ToothGrowth.csv\")\n",
    "df.head(3)"
   ]
  },
  {
   "cell_type": "markdown",
   "metadata": {},
   "source": [
    "#### On étudie la variable supp"
   ]
  },
  {
   "cell_type": "code",
   "execution_count": null,
   "metadata": {},
   "outputs": [],
   "source": [
    "df.supp.unique()"
   ]
  },
  {
   "cell_type": "code",
   "execution_count": null,
   "metadata": {},
   "outputs": [],
   "source": [
    "plt.subplots(figsize=(20,2))\n",
    "ax = sns.boxplot(x=\"len\", y=\"supp\", data=df)"
   ]
  },
  {
   "cell_type": "code",
   "execution_count": null,
   "metadata": {},
   "outputs": [],
   "source": [
    "bartlett(df.len[df.supp == 'VC'],\n",
    "        df.len[df.supp == 'OJ'])"
   ]
  },
  {
   "cell_type": "markdown",
   "metadata": {},
   "source": [
    "H0 : Les variances de chaque groupe sont égales si p-value > 5%\n",
    "<br> ~H1 : Les variances de chaque groupe ne sont pas toutes égales < 5%~"
   ]
  },
  {
   "cell_type": "markdown",
   "metadata": {},
   "source": [
    "#### On étudie la variable dose"
   ]
  },
  {
   "cell_type": "code",
   "execution_count": null,
   "metadata": {},
   "outputs": [],
   "source": [
    "df.dose.unique()"
   ]
  },
  {
   "cell_type": "code",
   "execution_count": null,
   "metadata": {},
   "outputs": [],
   "source": [
    "df.dose = df.dose.astype('category')"
   ]
  },
  {
   "cell_type": "code",
   "execution_count": null,
   "metadata": {},
   "outputs": [],
   "source": [
    "plt.subplots(figsize=(20,2))\n",
    "ax = sns.boxplot(x=\"len\", y=\"dose\", data=df)"
   ]
  },
  {
   "cell_type": "code",
   "execution_count": null,
   "metadata": {},
   "outputs": [],
   "source": [
    "bartlett(df.len[df.dose == \"0.5\"],\n",
    "        df.len[df.dose == \"1.0\"],\n",
    "        df.len[df.dose == \"2.0\"])"
   ]
  },
  {
   "cell_type": "markdown",
   "metadata": {},
   "source": [
    "H0 : Les variances de chaque groupe sont égales si p-value > 5%\n",
    "<br> ~H1 : Les variances de chaque groupe ne sont pas toutes égales < 5%~"
   ]
  },
  {
   "cell_type": "markdown",
   "metadata": {},
   "source": [
    "#### On peut faire une ANOVA"
   ]
  },
  {
   "cell_type": "markdown",
   "metadata": {},
   "source": [
    "H0 : Les moyennes de chaque groupe sont égales si p-value > 5%\n",
    "<br> H1 : Les moyennes de chaque groupe ne sont pas toutes égales < 5%"
   ]
  },
  {
   "cell_type": "code",
   "execution_count": null,
   "metadata": {},
   "outputs": [],
   "source": [
    "model = ols('len ~ supp + dose', data=df).fit()"
   ]
  },
  {
   "cell_type": "code",
   "execution_count": null,
   "metadata": {},
   "outputs": [],
   "source": [
    "anova_table = sm.stats.anova_lm(model, typ=2)\n",
    "anova_table"
   ]
  },
  {
   "cell_type": "markdown",
   "metadata": {},
   "source": [
    "📢 Le principe de l'Anova à plusieurs facteurs c'est justement de pouvoir observer les intéractions entre les variables"
   ]
  },
  {
   "cell_type": "code",
   "execution_count": null,
   "metadata": {},
   "outputs": [],
   "source": [
    "model = ols('len ~ supp + dose + supp:dose', data=df).fit()\n",
    "\n",
    "anova_table = sm.stats.anova_lm(model, typ=2)\n",
    "anova_table"
   ]
  },
  {
   "cell_type": "markdown",
   "metadata": {},
   "source": [
    "📢 On voit donc qu'il existe une intéraction entre les deux variables. Pour mesurer quelles associations sont significativement différentes des autres, on peut utilise un test de Tukey qui consiste à faire des tests de comparaison de moyenne sur deux échantillon avec toutes les combinaisons d'association"
   ]
  },
  {
   "cell_type": "markdown",
   "metadata": {},
   "source": [
    "Pour cela, on crée une colonne avec les combinaisons des deux facteurs."
   ]
  },
  {
   "cell_type": "code",
   "execution_count": null,
   "metadata": {},
   "outputs": [],
   "source": [
    "df['combinaison'] = df['supp'] + '-' + df['dose'].astype('str')\n",
    "df.head(3)"
   ]
  },
  {
   "cell_type": "code",
   "execution_count": null,
   "metadata": {},
   "outputs": [],
   "source": [
    "import statsmodels.stats.multicomp as multi \n",
    "Results = multi.MultiComparison(df['len'], df['combinaison'])\n",
    "Results = Results.tukeyhsd()\n",
    "print(Results)"
   ]
  }
 ],
 "metadata": {
  "kernelspec": {
   "display_name": "Python 3",
   "language": "python",
   "name": "python3"
  },
  "language_info": {
   "codemirror_mode": {
    "name": "ipython",
    "version": 3
   },
   "file_extension": ".py",
   "mimetype": "text/x-python",
   "name": "python",
   "nbconvert_exporter": "python",
   "pygments_lexer": "ipython3",
   "version": "3.8.8"
  },
  "toc": {
   "base_numbering": 1,
   "nav_menu": {
    "height": "603px",
    "width": "443px"
   },
   "number_sections": true,
   "sideBar": true,
   "skip_h1_title": false,
   "title_cell": "Table of Contents",
   "title_sidebar": "Contents",
   "toc_cell": false,
   "toc_position": {},
   "toc_section_display": true,
   "toc_window_display": false
  },
  "toc-autonumbering": false,
  "toc-showcode": false,
  "toc-showmarkdowntxt": false
 },
 "nbformat": 4,
 "nbformat_minor": 4
}
