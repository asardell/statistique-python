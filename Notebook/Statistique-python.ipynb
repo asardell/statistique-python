{
 "cells": [
  {
   "cell_type": "markdown",
   "metadata": {},
   "source": [
    "Le code source de ce cours est disponible sur https://github.com/asardell/statistique-python"
   ]
  },
  {
   "cell_type": "markdown",
   "metadata": {},
   "source": [
    "<font size=\"6\">  Test d'indépendance 🎲 </font>"
   ]
  },
  {
   "cell_type": "markdown",
   "metadata": {},
   "source": [
    "Les tests d'indépendances permettent de définir s'il existe un lien entre deux variables. Il existe différent test d'indépence, en voici quelques exemples :\n",
    "\n",
    "* Test indépendance entre deux variables quantitatives / Test de corrélation Pearson\n",
    "* Test d'indépendance entre deux variables qualitatives / Test du Chi²\n",
    "* Test d'indépendance entre une variable qualitative et une quantitative / Test de Fisher avec l'analyse de la variance (ANOVA)\n",
    "\n",
    "<br>\n",
    "\n",
    "Dans une démarche d'un projet de machine learning, les test d'indépendance permettent d'exclure des variables explicatives potentiellement non porteuses d'information."
   ]
  },
  {
   "cell_type": "markdown",
   "metadata": {},
   "source": [
    "Librairies utilisées"
   ]
  },
  {
   "cell_type": "code",
   "execution_count": 1,
   "metadata": {},
   "outputs": [],
   "source": [
    "import matplotlib.pyplot as plt\n",
    "import seaborn as sns\n",
    "import numpy as np\n",
    "import pandas as pd\n",
    "from scipy.stats import pearsonr\n",
    "from sklearn.preprocessing import StandardScaler"
   ]
  },
  {
   "cell_type": "markdown",
   "metadata": {},
   "source": [
    "# Test de corrélation Pearson"
   ]
  },
  {
   "cell_type": "markdown",
   "metadata": {},
   "source": [
    "L’intérêt des tests de corrélation est d’apporter plus de pertinence et fiabilité aux coefficients de corrélation. Il existe différents test de corrélation, nous utilisons celui de Pearson.\n",
    "\n",
    "On travaille avec le jeu de données fromage 🧀 disponible en [cliquant ici](https://github.com/asardell/programmation-r/tree/master/dataset)"
   ]
  },
  {
   "cell_type": "code",
   "execution_count": 3,
   "metadata": {},
   "outputs": [
    {
     "data": {
      "text/html": [
       "<div>\n",
       "<style scoped>\n",
       "    .dataframe tbody tr th:only-of-type {\n",
       "        vertical-align: middle;\n",
       "    }\n",
       "\n",
       "    .dataframe tbody tr th {\n",
       "        vertical-align: top;\n",
       "    }\n",
       "\n",
       "    .dataframe thead th {\n",
       "        text-align: right;\n",
       "    }\n",
       "</style>\n",
       "<table border=\"1\" class=\"dataframe\">\n",
       "  <thead>\n",
       "    <tr style=\"text-align: right;\">\n",
       "      <th></th>\n",
       "      <th>calories</th>\n",
       "      <th>sodium</th>\n",
       "      <th>calcium</th>\n",
       "      <th>lipides</th>\n",
       "      <th>retinol</th>\n",
       "      <th>folates</th>\n",
       "      <th>proteines</th>\n",
       "      <th>cholesterol</th>\n",
       "      <th>magnesium</th>\n",
       "    </tr>\n",
       "    <tr>\n",
       "      <th>Fromages</th>\n",
       "      <th></th>\n",
       "      <th></th>\n",
       "      <th></th>\n",
       "      <th></th>\n",
       "      <th></th>\n",
       "      <th></th>\n",
       "      <th></th>\n",
       "      <th></th>\n",
       "      <th></th>\n",
       "    </tr>\n",
       "  </thead>\n",
       "  <tbody>\n",
       "    <tr>\n",
       "      <th>CarredelEst</th>\n",
       "      <td>314</td>\n",
       "      <td>353.5</td>\n",
       "      <td>72.6</td>\n",
       "      <td>26.3</td>\n",
       "      <td>51.6</td>\n",
       "      <td>30.3</td>\n",
       "      <td>21.0</td>\n",
       "      <td>70</td>\n",
       "      <td>20</td>\n",
       "    </tr>\n",
       "    <tr>\n",
       "      <th>Babybel</th>\n",
       "      <td>314</td>\n",
       "      <td>238.0</td>\n",
       "      <td>209.8</td>\n",
       "      <td>25.1</td>\n",
       "      <td>63.7</td>\n",
       "      <td>6.4</td>\n",
       "      <td>22.6</td>\n",
       "      <td>70</td>\n",
       "      <td>27</td>\n",
       "    </tr>\n",
       "    <tr>\n",
       "      <th>Beaufort</th>\n",
       "      <td>401</td>\n",
       "      <td>112.0</td>\n",
       "      <td>259.4</td>\n",
       "      <td>33.3</td>\n",
       "      <td>54.9</td>\n",
       "      <td>1.2</td>\n",
       "      <td>26.6</td>\n",
       "      <td>120</td>\n",
       "      <td>41</td>\n",
       "    </tr>\n",
       "    <tr>\n",
       "      <th>Bleu</th>\n",
       "      <td>342</td>\n",
       "      <td>336.0</td>\n",
       "      <td>211.1</td>\n",
       "      <td>28.9</td>\n",
       "      <td>37.1</td>\n",
       "      <td>27.5</td>\n",
       "      <td>20.2</td>\n",
       "      <td>90</td>\n",
       "      <td>27</td>\n",
       "    </tr>\n",
       "    <tr>\n",
       "      <th>Camembert</th>\n",
       "      <td>264</td>\n",
       "      <td>314.0</td>\n",
       "      <td>215.9</td>\n",
       "      <td>19.5</td>\n",
       "      <td>103.0</td>\n",
       "      <td>36.4</td>\n",
       "      <td>23.4</td>\n",
       "      <td>60</td>\n",
       "      <td>20</td>\n",
       "    </tr>\n",
       "  </tbody>\n",
       "</table>\n",
       "</div>"
      ],
      "text/plain": [
       "             calories  sodium  calcium  lipides  retinol  folates  proteines  \\\n",
       "Fromages                                                                       \n",
       "CarredelEst       314   353.5     72.6     26.3     51.6     30.3       21.0   \n",
       "Babybel           314   238.0    209.8     25.1     63.7      6.4       22.6   \n",
       "Beaufort          401   112.0    259.4     33.3     54.9      1.2       26.6   \n",
       "Bleu              342   336.0    211.1     28.9     37.1     27.5       20.2   \n",
       "Camembert         264   314.0    215.9     19.5    103.0     36.4       23.4   \n",
       "\n",
       "             cholesterol  magnesium  \n",
       "Fromages                             \n",
       "CarredelEst           70         20  \n",
       "Babybel               70         27  \n",
       "Beaufort             120         41  \n",
       "Bleu                  90         27  \n",
       "Camembert             60         20  "
      ]
     },
     "execution_count": 3,
     "metadata": {},
     "output_type": "execute_result"
    }
   ],
   "source": [
    "df = pd.read_table(\"../Dataset/fromage.txt\", index_col=0)\n",
    "df.head()"
   ]
  },
  {
   "cell_type": "markdown",
   "metadata": {},
   "source": [
    "Avant de réaliser des tests d'indépendance, on projette graphiquement les données 2 à 2"
   ]
  },
  {
   "cell_type": "code",
   "execution_count": 3,
   "metadata": {},
   "outputs": [
    {
     "data": {
      "text/plain": [
       "<seaborn.axisgrid.PairGrid at 0x1e0c0ec2c40>"
      ]
     },
     "execution_count": 3,
     "metadata": {},
     "output_type": "execute_result"
    },
    {
     "data": {
      "image/png": "[encoded data removed]",
      "text/plain": [
       "<Figure size 1620x1620 with 90 Axes>"
      ]
     },
     "metadata": {
      "needs_background": "light"
     },
     "output_type": "display_data"
    }
   ],
   "source": [
    "sns.pairplot(df.iloc[:,0:9])"
   ]
  },
  {
   "cell_type": "markdown",
   "metadata": {},
   "source": [
    "## Matrice des corrélations"
   ]
  },
  {
   "cell_type": "markdown",
   "metadata": {},
   "source": [
    "Voici la matrice des corrélations des variables du fichier fromage."
   ]
  },
  {
   "cell_type": "code",
   "execution_count": 4,
   "metadata": {},
   "outputs": [
    {
     "data": {
      "image/png": "[encoded data removed]",
      "text/plain": [
       "<Figure size 720x288 with 2 Axes>"
      ]
     },
     "metadata": {},
     "output_type": "display_data"
    }
   ],
   "source": [
    "sns.set(rc={'figure.figsize':(10,4)})\n",
    "\n",
    "df_corr = df.corr()\n",
    "\n",
    "ax = sns.heatmap(df_corr, xticklabels = df_corr.columns , \n",
    "                 yticklabels = df_corr.columns, cmap = 'coolwarm')"
   ]
  },
  {
   "cell_type": "markdown",
   "metadata": {},
   "source": [
    "L'intérêt des tests de corrélation est d'apporter plus de pertinence et fiabilité aux coefficients de corrélation. Il existe différents test de corrélation, nous utilisons celui de Pearson."
   ]
  },
  {
   "cell_type": "code",
   "execution_count": 5,
   "metadata": {},
   "outputs": [],
   "source": [
    "from scipy.stats import pearsonr"
   ]
  },
  {
   "cell_type": "markdown",
   "metadata": {},
   "source": [
    "On pose les hypothèses de départ :\n",
    "\n",
    "* H0 : Variables indépendantes si p-value > 5%\n",
    "* H1 : Variables non indépendantes si p-value < 5%"
   ]
  },
  {
   "cell_type": "markdown",
   "metadata": {},
   "source": [
    "### Lipides vs Magnesium"
   ]
  },
  {
   "cell_type": "markdown",
   "metadata": {},
   "source": [
    "La première sortie correspond au coefficient de corrélation, la seconde à la p-value (ou probabilité critique)"
   ]
  },
  {
   "cell_type": "code",
   "execution_count": 6,
   "metadata": {},
   "outputs": [
    {
     "data": {
      "text/plain": [
       "(0.6898600757996967, 3.4693640122029244e-05)"
      ]
     },
     "execution_count": 6,
     "metadata": {},
     "output_type": "execute_result"
    }
   ],
   "source": [
    "pearsonr(df.lipides, df.magnesium)"
   ]
  },
  {
   "cell_type": "markdown",
   "metadata": {},
   "source": [
    "~H0 : Variables indépendantes si p-value > 5%~\n",
    "<br> H1 : Variables non indépendantes si p-value < 5%"
   ]
  },
  {
   "cell_type": "markdown",
   "metadata": {},
   "source": [
    "### Sodium vs Retinol"
   ]
  },
  {
   "cell_type": "code",
   "execution_count": 7,
   "metadata": {},
   "outputs": [
    {
     "data": {
      "text/plain": [
       "(0.14432755157345512, 0.45508547512205944)"
      ]
     },
     "execution_count": 7,
     "metadata": {},
     "output_type": "execute_result"
    }
   ],
   "source": [
    "pearsonr(df.sodium, df.retinol)"
   ]
  },
  {
   "cell_type": "markdown",
   "metadata": {},
   "source": [
    "H0 : Variables indépendantes si p-value > 5%\n",
    "<br> ~H1 : Variables non indépendantes si p-value < 5%~ <br>\n",
    "Si on veut rejeter H0 et prendre H1, j'ai 45,5% de chance de me tromper"
   ]
  },
  {
   "cell_type": "markdown",
   "metadata": {},
   "source": [
    "📢 Les tests statistiques sont trés sensibles à la taille de l'échantillon. \n",
    "Un coefficient de corrélation de 0.14 n'aura pas la même significativité sur un échantillon de 29 fromages qu'un échantillon de 319 fromages avec le même coefficient de corrélation."
   ]
  },
  {
   "cell_type": "markdown",
   "metadata": {},
   "source": [
    "On construit un daatframe en duppliquant le nombre de lignes"
   ]
  },
  {
   "cell_type": "code",
   "execution_count": 8,
   "metadata": {},
   "outputs": [
    {
     "data": {
      "text/plain": [
       "(319, 10)"
      ]
     },
     "execution_count": 8,
     "metadata": {},
     "output_type": "execute_result"
    }
   ],
   "source": [
    "df_append = df.copy()\n",
    "df_append.reset_index(inplace=True)\n",
    "df_append = df_append.append([df_append]*10,ignore_index=True)\n",
    "df_append.shape"
   ]
  },
  {
   "cell_type": "markdown",
   "metadata": {},
   "source": [
    "Chaque fromage apparaît plusieurs fois, on a augmenté la taille de l'échantillon"
   ]
  },
  {
   "cell_type": "code",
   "execution_count": 9,
   "metadata": {},
   "outputs": [
    {
     "data": {
      "text/plain": [
       "SaintPaulin       11\n",
       "Cantal            11\n",
       "Pyrenees          11\n",
       "Bleu              11\n",
       "Fr.frais40nat.    11\n",
       "Name: Fromages, dtype: int64"
      ]
     },
     "execution_count": 9,
     "metadata": {},
     "output_type": "execute_result"
    }
   ],
   "source": [
    "df_append.Fromages.value_counts().head()"
   ]
  },
  {
   "cell_type": "markdown",
   "metadata": {},
   "source": [
    "On effectue un autre test de corrélation avec les mêmes variables sur l'échantillon plus grand."
   ]
  },
  {
   "cell_type": "code",
   "execution_count": 10,
   "metadata": {},
   "outputs": [
    {
     "data": {
      "text/plain": [
       "(0.14432755157345512, 0.00984628928803309)"
      ]
     },
     "execution_count": 10,
     "metadata": {},
     "output_type": "execute_result"
    }
   ],
   "source": [
    "pearsonr(df_append.sodium, df_append.retinol)"
   ]
  },
  {
   "cell_type": "markdown",
   "metadata": {},
   "source": [
    "~H0 : Variables indépendantes si p-value > 5%~\n",
    "<br> H1 : Variables non indépendantes si p-value < 5% <br>"
   ]
  },
  {
   "cell_type": "markdown",
   "metadata": {},
   "source": [
    "On obtient logiquement le même coefficient de corrélation, mais en revanche, cette fois si la p-value est proche de 0."
   ]
  },
  {
   "cell_type": "markdown",
   "metadata": {},
   "source": [
    "###  Matrice des p-values"
   ]
  },
  {
   "cell_type": "markdown",
   "metadata": {},
   "source": [
    "On effectue un test de corrélation sur chaque variable 2 à 2 en isolant uniquement la p-value"
   ]
  },
  {
   "cell_type": "code",
   "execution_count": 7,
   "metadata": {},
   "outputs": [],
   "source": [
    "a = np.empty((len(df.columns),len(df.columns),))\n",
    "a[:] = np.nan\n",
    "for i in range(0,len(df.columns)):\n",
    "    for j in range(0,len(df.columns)):\n",
    "        a[i,j] = pearsonr(df.iloc[:,i], df.iloc[:,j])[1]\n",
    "\n",
    "df_pvalue = round(pd.DataFrame(a, columns=df.columns, index = df.columns),5)"
   ]
  },
  {
   "cell_type": "markdown",
   "metadata": {},
   "source": [
    "On affiche la matrice des corrélations avec un gradiant de couleur"
   ]
  },
  {
   "cell_type": "code",
   "execution_count": 8,
   "metadata": {},
   "outputs": [
    {
     "data": {
      "text/html": [
       "<style  type=\"text/css\" >\n",
       "#T_843fe_row0_col0,#T_843fe_row0_col3,#T_843fe_row0_col6,#T_843fe_row0_col7,#T_843fe_row0_col8,#T_843fe_row1_col1,#T_843fe_row2_col2,#T_843fe_row2_col5,#T_843fe_row2_col6,#T_843fe_row2_col8,#T_843fe_row3_col0,#T_843fe_row3_col3,#T_843fe_row3_col6,#T_843fe_row3_col7,#T_843fe_row3_col8,#T_843fe_row4_col4,#T_843fe_row5_col2,#T_843fe_row5_col5,#T_843fe_row6_col0,#T_843fe_row6_col2,#T_843fe_row6_col3,#T_843fe_row6_col6,#T_843fe_row6_col7,#T_843fe_row6_col8,#T_843fe_row7_col0,#T_843fe_row7_col3,#T_843fe_row7_col6,#T_843fe_row7_col7,#T_843fe_row7_col8,#T_843fe_row8_col0,#T_843fe_row8_col2,#T_843fe_row8_col3,#T_843fe_row8_col6,#T_843fe_row8_col7,#T_843fe_row8_col8{\n",
       "            background-color:  #ebf3eb;\n",
       "            color:  #000000;\n",
       "        }#T_843fe_row0_col1{\n",
       "            background-color:  #e8f2e8;\n",
       "            color:  #000000;\n",
       "        }#T_843fe_row0_col2,#T_843fe_row1_col0,#T_843fe_row5_col8{\n",
       "            background-color:  #e7f1e7;\n",
       "            color:  #000000;\n",
       "        }#T_843fe_row0_col4{\n",
       "            background-color:  #198c19;\n",
       "            color:  #000000;\n",
       "        }#T_843fe_row0_col5{\n",
       "            background-color:  #bfdebf;\n",
       "            color:  #000000;\n",
       "        }#T_843fe_row1_col2,#T_843fe_row1_col5,#T_843fe_row1_col8,#T_843fe_row2_col1,#T_843fe_row3_col4,#T_843fe_row4_col0,#T_843fe_row4_col3,#T_843fe_row4_col6,#T_843fe_row4_col7{\n",
       "            background-color:  #008000;\n",
       "            color:  #f1f1f1;\n",
       "        }#T_843fe_row1_col3,#T_843fe_row3_col1,#T_843fe_row4_col5{\n",
       "            background-color:  #e9f2e9;\n",
       "            color:  #000000;\n",
       "        }#T_843fe_row1_col4,#T_843fe_row5_col1{\n",
       "            background-color:  #78bb78;\n",
       "            color:  #000000;\n",
       "        }#T_843fe_row1_col6{\n",
       "            background-color:  #c2dfc2;\n",
       "            color:  #000000;\n",
       "        }#T_843fe_row1_col7{\n",
       "            background-color:  #cfe5cf;\n",
       "            color:  #000000;\n",
       "        }#T_843fe_row2_col0,#T_843fe_row7_col2{\n",
       "            background-color:  #e6f1e6;\n",
       "            color:  #000000;\n",
       "        }#T_843fe_row2_col3,#T_843fe_row5_col7{\n",
       "            background-color:  #d9ead9;\n",
       "            color:  #000000;\n",
       "        }#T_843fe_row2_col4{\n",
       "            background-color:  #cae3ca;\n",
       "            color:  #000000;\n",
       "        }#T_843fe_row2_col7{\n",
       "            background-color:  #e4f0e4;\n",
       "            color:  #000000;\n",
       "        }#T_843fe_row3_col2,#T_843fe_row5_col6{\n",
       "            background-color:  #daebda;\n",
       "            color:  #000000;\n",
       "        }#T_843fe_row3_col5{\n",
       "            background-color:  #a3d0a3;\n",
       "            color:  #000000;\n",
       "        }#T_843fe_row4_col1{\n",
       "            background-color:  #7dbd7d;\n",
       "            color:  #000000;\n",
       "        }#T_843fe_row4_col2{\n",
       "            background-color:  #cce4cc;\n",
       "            color:  #000000;\n",
       "        }#T_843fe_row4_col8{\n",
       "            background-color:  #48a348;\n",
       "            color:  #000000;\n",
       "        }#T_843fe_row5_col0,#T_843fe_row7_col5{\n",
       "            background-color:  #d2e7d2;\n",
       "            color:  #000000;\n",
       "        }#T_843fe_row5_col3{\n",
       "            background-color:  #c6e1c6;\n",
       "            color:  #000000;\n",
       "        }#T_843fe_row5_col4{\n",
       "            background-color:  #eaf2ea;\n",
       "            color:  #000000;\n",
       "        }#T_843fe_row6_col1{\n",
       "            background-color:  #c8e2c8;\n",
       "            color:  #000000;\n",
       "        }#T_843fe_row6_col4{\n",
       "            background-color:  #158a15;\n",
       "            color:  #000000;\n",
       "        }#T_843fe_row6_col5{\n",
       "            background-color:  #cde5cd;\n",
       "            color:  #000000;\n",
       "        }#T_843fe_row7_col1{\n",
       "            background-color:  #d8ead8;\n",
       "            color:  #000000;\n",
       "        }#T_843fe_row7_col4{\n",
       "            background-color:  #45a245;\n",
       "            color:  #000000;\n",
       "        }#T_843fe_row8_col1{\n",
       "            background-color:  #188c18;\n",
       "            color:  #000000;\n",
       "        }#T_843fe_row8_col4{\n",
       "            background-color:  #51a851;\n",
       "            color:  #000000;\n",
       "        }#T_843fe_row8_col5{\n",
       "            background-color:  #e3efe3;\n",
       "            color:  #000000;\n",
       "        }</style><table id=\"T_843fe_\" ><thead>    <tr>        <th class=\"blank level0\" ></th>        <th class=\"col_heading level0 col0\" >calories</th>        <th class=\"col_heading level0 col1\" >sodium</th>        <th class=\"col_heading level0 col2\" >calcium</th>        <th class=\"col_heading level0 col3\" >lipides</th>        <th class=\"col_heading level0 col4\" >retinol</th>        <th class=\"col_heading level0 col5\" >folates</th>        <th class=\"col_heading level0 col6\" >proteines</th>        <th class=\"col_heading level0 col7\" >cholesterol</th>        <th class=\"col_heading level0 col8\" >magnesium</th>    </tr></thead><tbody>\n",
       "                <tr>\n",
       "                        <th id=\"T_843fe_level0_row0\" class=\"row_heading level0 row0\" >calories</th>\n",
       "                        <td id=\"T_843fe_row0_col0\" class=\"data row0 col0\" >0.00</td>\n",
       "                        <td id=\"T_843fe_row0_col1\" class=\"data row0 col1\" >0.01</td>\n",
       "                        <td id=\"T_843fe_row0_col2\" class=\"data row0 col2\" >0.02</td>\n",
       "                        <td id=\"T_843fe_row0_col3\" class=\"data row0 col3\" >0.00</td>\n",
       "                        <td id=\"T_843fe_row0_col4\" class=\"data row0 col4\" >0.83</td>\n",
       "                        <td id=\"T_843fe_row0_col5\" class=\"data row0 col5\" >0.09</td>\n",
       "                        <td id=\"T_843fe_row0_col6\" class=\"data row0 col6\" >0.00</td>\n",
       "                        <td id=\"T_843fe_row0_col7\" class=\"data row0 col7\" >0.00</td>\n",
       "                        <td id=\"T_843fe_row0_col8\" class=\"data row0 col8\" >0.00</td>\n",
       "            </tr>\n",
       "            <tr>\n",
       "                        <th id=\"T_843fe_level0_row1\" class=\"row_heading level0 row1\" >sodium</th>\n",
       "                        <td id=\"T_843fe_row1_col0\" class=\"data row1 col0\" >0.01</td>\n",
       "                        <td id=\"T_843fe_row1_col1\" class=\"data row1 col1\" >0.00</td>\n",
       "                        <td id=\"T_843fe_row1_col2\" class=\"data row1 col2\" >0.98</td>\n",
       "                        <td id=\"T_843fe_row1_col3\" class=\"data row1 col3\" >0.01</td>\n",
       "                        <td id=\"T_843fe_row1_col4\" class=\"data row1 col4\" >0.46</td>\n",
       "                        <td id=\"T_843fe_row1_col5\" class=\"data row1 col5\" >0.48</td>\n",
       "                        <td id=\"T_843fe_row1_col6\" class=\"data row1 col6\" >0.15</td>\n",
       "                        <td id=\"T_843fe_row1_col7\" class=\"data row1 col7\" >0.08</td>\n",
       "                        <td id=\"T_843fe_row1_col8\" class=\"data row1 col8\" >0.87</td>\n",
       "            </tr>\n",
       "            <tr>\n",
       "                        <th id=\"T_843fe_level0_row2\" class=\"row_heading level0 row2\" >calcium</th>\n",
       "                        <td id=\"T_843fe_row2_col0\" class=\"data row2 col0\" >0.02</td>\n",
       "                        <td id=\"T_843fe_row2_col1\" class=\"data row2 col1\" >0.98</td>\n",
       "                        <td id=\"T_843fe_row2_col2\" class=\"data row2 col2\" >0.00</td>\n",
       "                        <td id=\"T_843fe_row2_col3\" class=\"data row2 col3\" >0.07</td>\n",
       "                        <td id=\"T_843fe_row2_col4\" class=\"data row2 col4\" >0.13</td>\n",
       "                        <td id=\"T_843fe_row2_col5\" class=\"data row2 col5\" >0.00</td>\n",
       "                        <td id=\"T_843fe_row2_col6\" class=\"data row2 col6\" >0.00</td>\n",
       "                        <td id=\"T_843fe_row2_col7\" class=\"data row2 col7\" >0.02</td>\n",
       "                        <td id=\"T_843fe_row2_col8\" class=\"data row2 col8\" >0.00</td>\n",
       "            </tr>\n",
       "            <tr>\n",
       "                        <th id=\"T_843fe_level0_row3\" class=\"row_heading level0 row3\" >lipides</th>\n",
       "                        <td id=\"T_843fe_row3_col0\" class=\"data row3 col0\" >0.00</td>\n",
       "                        <td id=\"T_843fe_row3_col1\" class=\"data row3 col1\" >0.01</td>\n",
       "                        <td id=\"T_843fe_row3_col2\" class=\"data row3 col2\" >0.07</td>\n",
       "                        <td id=\"T_843fe_row3_col3\" class=\"data row3 col3\" >0.00</td>\n",
       "                        <td id=\"T_843fe_row3_col4\" class=\"data row3 col4\" >0.92</td>\n",
       "                        <td id=\"T_843fe_row3_col5\" class=\"data row3 col5\" >0.15</td>\n",
       "                        <td id=\"T_843fe_row3_col6\" class=\"data row3 col6\" >0.00</td>\n",
       "                        <td id=\"T_843fe_row3_col7\" class=\"data row3 col7\" >0.00</td>\n",
       "                        <td id=\"T_843fe_row3_col8\" class=\"data row3 col8\" >0.00</td>\n",
       "            </tr>\n",
       "            <tr>\n",
       "                        <th id=\"T_843fe_level0_row4\" class=\"row_heading level0 row4\" >retinol</th>\n",
       "                        <td id=\"T_843fe_row4_col0\" class=\"data row4 col0\" >0.83</td>\n",
       "                        <td id=\"T_843fe_row4_col1\" class=\"data row4 col1\" >0.46</td>\n",
       "                        <td id=\"T_843fe_row4_col2\" class=\"data row4 col2\" >0.13</td>\n",
       "                        <td id=\"T_843fe_row4_col3\" class=\"data row4 col3\" >0.92</td>\n",
       "                        <td id=\"T_843fe_row4_col4\" class=\"data row4 col4\" >0.00</td>\n",
       "                        <td id=\"T_843fe_row4_col5\" class=\"data row4 col5\" >0.00</td>\n",
       "                        <td id=\"T_843fe_row4_col6\" class=\"data row4 col6\" >0.84</td>\n",
       "                        <td id=\"T_843fe_row4_col7\" class=\"data row4 col7\" >0.65</td>\n",
       "                        <td id=\"T_843fe_row4_col8\" class=\"data row4 col8\" >0.61</td>\n",
       "            </tr>\n",
       "            <tr>\n",
       "                        <th id=\"T_843fe_level0_row5\" class=\"row_heading level0 row5\" >folates</th>\n",
       "                        <td id=\"T_843fe_row5_col0\" class=\"data row5 col0\" >0.09</td>\n",
       "                        <td id=\"T_843fe_row5_col1\" class=\"data row5 col1\" >0.48</td>\n",
       "                        <td id=\"T_843fe_row5_col2\" class=\"data row5 col2\" >0.00</td>\n",
       "                        <td id=\"T_843fe_row5_col3\" class=\"data row5 col3\" >0.15</td>\n",
       "                        <td id=\"T_843fe_row5_col4\" class=\"data row5 col4\" >0.00</td>\n",
       "                        <td id=\"T_843fe_row5_col5\" class=\"data row5 col5\" >0.00</td>\n",
       "                        <td id=\"T_843fe_row5_col6\" class=\"data row5 col6\" >0.06</td>\n",
       "                        <td id=\"T_843fe_row5_col7\" class=\"data row5 col7\" >0.05</td>\n",
       "                        <td id=\"T_843fe_row5_col8\" class=\"data row5 col8\" >0.02</td>\n",
       "            </tr>\n",
       "            <tr>\n",
       "                        <th id=\"T_843fe_level0_row6\" class=\"row_heading level0 row6\" >proteines</th>\n",
       "                        <td id=\"T_843fe_row6_col0\" class=\"data row6 col0\" >0.00</td>\n",
       "                        <td id=\"T_843fe_row6_col1\" class=\"data row6 col1\" >0.15</td>\n",
       "                        <td id=\"T_843fe_row6_col2\" class=\"data row6 col2\" >0.00</td>\n",
       "                        <td id=\"T_843fe_row6_col3\" class=\"data row6 col3\" >0.00</td>\n",
       "                        <td id=\"T_843fe_row6_col4\" class=\"data row6 col4\" >0.84</td>\n",
       "                        <td id=\"T_843fe_row6_col5\" class=\"data row6 col5\" >0.06</td>\n",
       "                        <td id=\"T_843fe_row6_col6\" class=\"data row6 col6\" >0.00</td>\n",
       "                        <td id=\"T_843fe_row6_col7\" class=\"data row6 col7\" >0.00</td>\n",
       "                        <td id=\"T_843fe_row6_col8\" class=\"data row6 col8\" >0.00</td>\n",
       "            </tr>\n",
       "            <tr>\n",
       "                        <th id=\"T_843fe_level0_row7\" class=\"row_heading level0 row7\" >cholesterol</th>\n",
       "                        <td id=\"T_843fe_row7_col0\" class=\"data row7 col0\" >0.00</td>\n",
       "                        <td id=\"T_843fe_row7_col1\" class=\"data row7 col1\" >0.08</td>\n",
       "                        <td id=\"T_843fe_row7_col2\" class=\"data row7 col2\" >0.02</td>\n",
       "                        <td id=\"T_843fe_row7_col3\" class=\"data row7 col3\" >0.00</td>\n",
       "                        <td id=\"T_843fe_row7_col4\" class=\"data row7 col4\" >0.65</td>\n",
       "                        <td id=\"T_843fe_row7_col5\" class=\"data row7 col5\" >0.05</td>\n",
       "                        <td id=\"T_843fe_row7_col6\" class=\"data row7 col6\" >0.00</td>\n",
       "                        <td id=\"T_843fe_row7_col7\" class=\"data row7 col7\" >0.00</td>\n",
       "                        <td id=\"T_843fe_row7_col8\" class=\"data row7 col8\" >0.00</td>\n",
       "            </tr>\n",
       "            <tr>\n",
       "                        <th id=\"T_843fe_level0_row8\" class=\"row_heading level0 row8\" >magnesium</th>\n",
       "                        <td id=\"T_843fe_row8_col0\" class=\"data row8 col0\" >0.00</td>\n",
       "                        <td id=\"T_843fe_row8_col1\" class=\"data row8 col1\" >0.87</td>\n",
       "                        <td id=\"T_843fe_row8_col2\" class=\"data row8 col2\" >0.00</td>\n",
       "                        <td id=\"T_843fe_row8_col3\" class=\"data row8 col3\" >0.00</td>\n",
       "                        <td id=\"T_843fe_row8_col4\" class=\"data row8 col4\" >0.61</td>\n",
       "                        <td id=\"T_843fe_row8_col5\" class=\"data row8 col5\" >0.02</td>\n",
       "                        <td id=\"T_843fe_row8_col6\" class=\"data row8 col6\" >0.00</td>\n",
       "                        <td id=\"T_843fe_row8_col7\" class=\"data row8 col7\" >0.00</td>\n",
       "                        <td id=\"T_843fe_row8_col8\" class=\"data row8 col8\" >0.00</td>\n",
       "            </tr>\n",
       "    </tbody></table>"
      ],
      "text/plain": [
       "<pandas.io.formats.style.Styler at 0x7f17c4695e50>"
      ]
     },
     "execution_count": 8,
     "metadata": {},
     "output_type": "execute_result"
    }
   ],
   "source": [
    "cm = sns.light_palette(\"green\", as_cmap=True) \n",
    "\n",
    "df_pvalue.\\\n",
    "style.background_gradient(cmap=cm).set_precision(2)"
   ]
  },
  {
   "cell_type": "markdown",
   "metadata": {},
   "source": [
    "💡 Obtient-on les mêmes p-value si on centre et on réduit ?"
   ]
  },
  {
   "cell_type": "markdown",
   "metadata": {},
   "source": [
    "On centre et on réduit"
   ]
  },
  {
   "cell_type": "code",
   "execution_count": 9,
   "metadata": {},
   "outputs": [
    {
     "data": {
      "text/html": [
       "<div>\n",
       "<style scoped>\n",
       "    .dataframe tbody tr th:only-of-type {\n",
       "        vertical-align: middle;\n",
       "    }\n",
       "\n",
       "    .dataframe tbody tr th {\n",
       "        vertical-align: top;\n",
       "    }\n",
       "\n",
       "    .dataframe thead th {\n",
       "        text-align: right;\n",
       "    }\n",
       "</style>\n",
       "<table border=\"1\" class=\"dataframe\">\n",
       "  <thead>\n",
       "    <tr style=\"text-align: right;\">\n",
       "      <th></th>\n",
       "      <th>calories</th>\n",
       "      <th>sodium</th>\n",
       "      <th>calcium</th>\n",
       "      <th>lipides</th>\n",
       "      <th>retinol</th>\n",
       "      <th>folates</th>\n",
       "      <th>proteines</th>\n",
       "      <th>cholesterol</th>\n",
       "      <th>magnesium</th>\n",
       "    </tr>\n",
       "  </thead>\n",
       "  <tbody>\n",
       "    <tr>\n",
       "      <th>0</th>\n",
       "      <td>0.154630</td>\n",
       "      <td>1.342968</td>\n",
       "      <td>-1.587464</td>\n",
       "      <td>0.268066</td>\n",
       "      <td>-0.672290</td>\n",
       "      <td>1.500911</td>\n",
       "      <td>0.121519</td>\n",
       "      <td>-0.165242</td>\n",
       "      <td>-0.626309</td>\n",
       "    </tr>\n",
       "    <tr>\n",
       "      <th>1</th>\n",
       "      <td>0.154630</td>\n",
       "      <td>0.261393</td>\n",
       "      <td>0.337679</td>\n",
       "      <td>0.117846</td>\n",
       "      <td>-0.162662</td>\n",
       "      <td>-0.573843</td>\n",
       "      <td>0.355480</td>\n",
       "      <td>-0.165242</td>\n",
       "      <td>0.003101</td>\n",
       "    </tr>\n",
       "    <tr>\n",
       "      <th>2</th>\n",
       "      <td>1.117917</td>\n",
       "      <td>-0.918507</td>\n",
       "      <td>1.033649</td>\n",
       "      <td>1.144354</td>\n",
       "      <td>-0.533301</td>\n",
       "      <td>-1.025253</td>\n",
       "      <td>0.940383</td>\n",
       "      <td>1.636269</td>\n",
       "      <td>1.261920</td>\n",
       "    </tr>\n",
       "  </tbody>\n",
       "</table>\n",
       "</div>"
      ],
      "text/plain": [
       "   calories    sodium   calcium   lipides   retinol   folates  proteines  \\\n",
       "0  0.154630  1.342968 -1.587464  0.268066 -0.672290  1.500911   0.121519   \n",
       "1  0.154630  0.261393  0.337679  0.117846 -0.162662 -0.573843   0.355480   \n",
       "2  1.117917 -0.918507  1.033649  1.144354 -0.533301 -1.025253   0.940383   \n",
       "\n",
       "   cholesterol  magnesium  \n",
       "0    -0.165242  -0.626309  \n",
       "1    -0.165242   0.003101  \n",
       "2     1.636269   1.261920  "
      ]
     },
     "execution_count": 9,
     "metadata": {},
     "output_type": "execute_result"
    }
   ],
   "source": [
    "from sklearn.preprocessing import StandardScaler\n",
    "df_CR = StandardScaler().fit_transform(df)\n",
    "df_CR = pd.DataFrame(df_CR, columns=df.columns)\n",
    "df_CR.head(3)"
   ]
  },
  {
   "cell_type": "markdown",
   "metadata": {},
   "source": [
    "On calcule les test de corrélation"
   ]
  },
  {
   "cell_type": "code",
   "execution_count": 10,
   "metadata": {},
   "outputs": [],
   "source": [
    "for i in range(0,len(df.columns)):\n",
    "    for j in range(0,len(df.columns)):\n",
    "        a[i,j] = pearsonr(df_CR.iloc[:,i], df_CR.iloc[:,j])[1]\n",
    "\n",
    "df_CR_pvalue = round(pd.DataFrame(a, columns=df.columns, index = df.columns),5)"
   ]
  },
  {
   "cell_type": "markdown",
   "metadata": {},
   "source": [
    "On affiche la matrice des p-value"
   ]
  },
  {
   "cell_type": "code",
   "execution_count": 11,
   "metadata": {},
   "outputs": [
    {
     "data": {
      "text/html": [
       "<style  type=\"text/css\" >\n",
       "#T_17774_row0_col0,#T_17774_row0_col3,#T_17774_row0_col6,#T_17774_row0_col7,#T_17774_row0_col8,#T_17774_row1_col1,#T_17774_row2_col2,#T_17774_row2_col5,#T_17774_row2_col6,#T_17774_row2_col8,#T_17774_row3_col0,#T_17774_row3_col3,#T_17774_row3_col6,#T_17774_row3_col7,#T_17774_row3_col8,#T_17774_row4_col4,#T_17774_row5_col2,#T_17774_row5_col5,#T_17774_row6_col0,#T_17774_row6_col2,#T_17774_row6_col3,#T_17774_row6_col6,#T_17774_row6_col7,#T_17774_row6_col8,#T_17774_row7_col0,#T_17774_row7_col3,#T_17774_row7_col6,#T_17774_row7_col7,#T_17774_row7_col8,#T_17774_row8_col0,#T_17774_row8_col2,#T_17774_row8_col3,#T_17774_row8_col6,#T_17774_row8_col7,#T_17774_row8_col8{\n",
       "            background-color:  #ebf3eb;\n",
       "            color:  #000000;\n",
       "        }#T_17774_row0_col1{\n",
       "            background-color:  #e8f2e8;\n",
       "            color:  #000000;\n",
       "        }#T_17774_row0_col2,#T_17774_row1_col0,#T_17774_row5_col8{\n",
       "            background-color:  #e7f1e7;\n",
       "            color:  #000000;\n",
       "        }#T_17774_row0_col4{\n",
       "            background-color:  #198c19;\n",
       "            color:  #000000;\n",
       "        }#T_17774_row0_col5{\n",
       "            background-color:  #bfdebf;\n",
       "            color:  #000000;\n",
       "        }#T_17774_row1_col2,#T_17774_row1_col5,#T_17774_row1_col8,#T_17774_row2_col1,#T_17774_row3_col4,#T_17774_row4_col0,#T_17774_row4_col3,#T_17774_row4_col6,#T_17774_row4_col7{\n",
       "            background-color:  #008000;\n",
       "            color:  #f1f1f1;\n",
       "        }#T_17774_row1_col3,#T_17774_row3_col1,#T_17774_row4_col5{\n",
       "            background-color:  #e9f2e9;\n",
       "            color:  #000000;\n",
       "        }#T_17774_row1_col4,#T_17774_row5_col1{\n",
       "            background-color:  #78bb78;\n",
       "            color:  #000000;\n",
       "        }#T_17774_row1_col6{\n",
       "            background-color:  #c2dfc2;\n",
       "            color:  #000000;\n",
       "        }#T_17774_row1_col7{\n",
       "            background-color:  #cfe5cf;\n",
       "            color:  #000000;\n",
       "        }#T_17774_row2_col0,#T_17774_row7_col2{\n",
       "            background-color:  #e6f1e6;\n",
       "            color:  #000000;\n",
       "        }#T_17774_row2_col3,#T_17774_row5_col7{\n",
       "            background-color:  #d9ead9;\n",
       "            color:  #000000;\n",
       "        }#T_17774_row2_col4{\n",
       "            background-color:  #cae3ca;\n",
       "            color:  #000000;\n",
       "        }#T_17774_row2_col7{\n",
       "            background-color:  #e4f0e4;\n",
       "            color:  #000000;\n",
       "        }#T_17774_row3_col2,#T_17774_row5_col6{\n",
       "            background-color:  #daebda;\n",
       "            color:  #000000;\n",
       "        }#T_17774_row3_col5{\n",
       "            background-color:  #a3d0a3;\n",
       "            color:  #000000;\n",
       "        }#T_17774_row4_col1{\n",
       "            background-color:  #7dbd7d;\n",
       "            color:  #000000;\n",
       "        }#T_17774_row4_col2{\n",
       "            background-color:  #cce4cc;\n",
       "            color:  #000000;\n",
       "        }#T_17774_row4_col8{\n",
       "            background-color:  #48a348;\n",
       "            color:  #000000;\n",
       "        }#T_17774_row5_col0,#T_17774_row7_col5{\n",
       "            background-color:  #d2e7d2;\n",
       "            color:  #000000;\n",
       "        }#T_17774_row5_col3{\n",
       "            background-color:  #c6e1c6;\n",
       "            color:  #000000;\n",
       "        }#T_17774_row5_col4{\n",
       "            background-color:  #eaf2ea;\n",
       "            color:  #000000;\n",
       "        }#T_17774_row6_col1{\n",
       "            background-color:  #c8e2c8;\n",
       "            color:  #000000;\n",
       "        }#T_17774_row6_col4{\n",
       "            background-color:  #158a15;\n",
       "            color:  #000000;\n",
       "        }#T_17774_row6_col5{\n",
       "            background-color:  #cde5cd;\n",
       "            color:  #000000;\n",
       "        }#T_17774_row7_col1{\n",
       "            background-color:  #d8ead8;\n",
       "            color:  #000000;\n",
       "        }#T_17774_row7_col4{\n",
       "            background-color:  #45a245;\n",
       "            color:  #000000;\n",
       "        }#T_17774_row8_col1{\n",
       "            background-color:  #188c18;\n",
       "            color:  #000000;\n",
       "        }#T_17774_row8_col4{\n",
       "            background-color:  #51a851;\n",
       "            color:  #000000;\n",
       "        }#T_17774_row8_col5{\n",
       "            background-color:  #e3efe3;\n",
       "            color:  #000000;\n",
       "        }</style><table id=\"T_17774_\" ><thead>    <tr>        <th class=\"blank level0\" ></th>        <th class=\"col_heading level0 col0\" >calories</th>        <th class=\"col_heading level0 col1\" >sodium</th>        <th class=\"col_heading level0 col2\" >calcium</th>        <th class=\"col_heading level0 col3\" >lipides</th>        <th class=\"col_heading level0 col4\" >retinol</th>        <th class=\"col_heading level0 col5\" >folates</th>        <th class=\"col_heading level0 col6\" >proteines</th>        <th class=\"col_heading level0 col7\" >cholesterol</th>        <th class=\"col_heading level0 col8\" >magnesium</th>    </tr></thead><tbody>\n",
       "                <tr>\n",
       "                        <th id=\"T_17774_level0_row0\" class=\"row_heading level0 row0\" >calories</th>\n",
       "                        <td id=\"T_17774_row0_col0\" class=\"data row0 col0\" >0.00</td>\n",
       "                        <td id=\"T_17774_row0_col1\" class=\"data row0 col1\" >0.01</td>\n",
       "                        <td id=\"T_17774_row0_col2\" class=\"data row0 col2\" >0.02</td>\n",
       "                        <td id=\"T_17774_row0_col3\" class=\"data row0 col3\" >0.00</td>\n",
       "                        <td id=\"T_17774_row0_col4\" class=\"data row0 col4\" >0.83</td>\n",
       "                        <td id=\"T_17774_row0_col5\" class=\"data row0 col5\" >0.09</td>\n",
       "                        <td id=\"T_17774_row0_col6\" class=\"data row0 col6\" >0.00</td>\n",
       "                        <td id=\"T_17774_row0_col7\" class=\"data row0 col7\" >0.00</td>\n",
       "                        <td id=\"T_17774_row0_col8\" class=\"data row0 col8\" >0.00</td>\n",
       "            </tr>\n",
       "            <tr>\n",
       "                        <th id=\"T_17774_level0_row1\" class=\"row_heading level0 row1\" >sodium</th>\n",
       "                        <td id=\"T_17774_row1_col0\" class=\"data row1 col0\" >0.01</td>\n",
       "                        <td id=\"T_17774_row1_col1\" class=\"data row1 col1\" >0.00</td>\n",
       "                        <td id=\"T_17774_row1_col2\" class=\"data row1 col2\" >0.98</td>\n",
       "                        <td id=\"T_17774_row1_col3\" class=\"data row1 col3\" >0.01</td>\n",
       "                        <td id=\"T_17774_row1_col4\" class=\"data row1 col4\" >0.46</td>\n",
       "                        <td id=\"T_17774_row1_col5\" class=\"data row1 col5\" >0.48</td>\n",
       "                        <td id=\"T_17774_row1_col6\" class=\"data row1 col6\" >0.15</td>\n",
       "                        <td id=\"T_17774_row1_col7\" class=\"data row1 col7\" >0.08</td>\n",
       "                        <td id=\"T_17774_row1_col8\" class=\"data row1 col8\" >0.87</td>\n",
       "            </tr>\n",
       "            <tr>\n",
       "                        <th id=\"T_17774_level0_row2\" class=\"row_heading level0 row2\" >calcium</th>\n",
       "                        <td id=\"T_17774_row2_col0\" class=\"data row2 col0\" >0.02</td>\n",
       "                        <td id=\"T_17774_row2_col1\" class=\"data row2 col1\" >0.98</td>\n",
       "                        <td id=\"T_17774_row2_col2\" class=\"data row2 col2\" >0.00</td>\n",
       "                        <td id=\"T_17774_row2_col3\" class=\"data row2 col3\" >0.07</td>\n",
       "                        <td id=\"T_17774_row2_col4\" class=\"data row2 col4\" >0.13</td>\n",
       "                        <td id=\"T_17774_row2_col5\" class=\"data row2 col5\" >0.00</td>\n",
       "                        <td id=\"T_17774_row2_col6\" class=\"data row2 col6\" >0.00</td>\n",
       "                        <td id=\"T_17774_row2_col7\" class=\"data row2 col7\" >0.02</td>\n",
       "                        <td id=\"T_17774_row2_col8\" class=\"data row2 col8\" >0.00</td>\n",
       "            </tr>\n",
       "            <tr>\n",
       "                        <th id=\"T_17774_level0_row3\" class=\"row_heading level0 row3\" >lipides</th>\n",
       "                        <td id=\"T_17774_row3_col0\" class=\"data row3 col0\" >0.00</td>\n",
       "                        <td id=\"T_17774_row3_col1\" class=\"data row3 col1\" >0.01</td>\n",
       "                        <td id=\"T_17774_row3_col2\" class=\"data row3 col2\" >0.07</td>\n",
       "                        <td id=\"T_17774_row3_col3\" class=\"data row3 col3\" >0.00</td>\n",
       "                        <td id=\"T_17774_row3_col4\" class=\"data row3 col4\" >0.92</td>\n",
       "                        <td id=\"T_17774_row3_col5\" class=\"data row3 col5\" >0.15</td>\n",
       "                        <td id=\"T_17774_row3_col6\" class=\"data row3 col6\" >0.00</td>\n",
       "                        <td id=\"T_17774_row3_col7\" class=\"data row3 col7\" >0.00</td>\n",
       "                        <td id=\"T_17774_row3_col8\" class=\"data row3 col8\" >0.00</td>\n",
       "            </tr>\n",
       "            <tr>\n",
       "                        <th id=\"T_17774_level0_row4\" class=\"row_heading level0 row4\" >retinol</th>\n",
       "                        <td id=\"T_17774_row4_col0\" class=\"data row4 col0\" >0.83</td>\n",
       "                        <td id=\"T_17774_row4_col1\" class=\"data row4 col1\" >0.46</td>\n",
       "                        <td id=\"T_17774_row4_col2\" class=\"data row4 col2\" >0.13</td>\n",
       "                        <td id=\"T_17774_row4_col3\" class=\"data row4 col3\" >0.92</td>\n",
       "                        <td id=\"T_17774_row4_col4\" class=\"data row4 col4\" >0.00</td>\n",
       "                        <td id=\"T_17774_row4_col5\" class=\"data row4 col5\" >0.00</td>\n",
       "                        <td id=\"T_17774_row4_col6\" class=\"data row4 col6\" >0.84</td>\n",
       "                        <td id=\"T_17774_row4_col7\" class=\"data row4 col7\" >0.65</td>\n",
       "                        <td id=\"T_17774_row4_col8\" class=\"data row4 col8\" >0.61</td>\n",
       "            </tr>\n",
       "            <tr>\n",
       "                        <th id=\"T_17774_level0_row5\" class=\"row_heading level0 row5\" >folates</th>\n",
       "                        <td id=\"T_17774_row5_col0\" class=\"data row5 col0\" >0.09</td>\n",
       "                        <td id=\"T_17774_row5_col1\" class=\"data row5 col1\" >0.48</td>\n",
       "                        <td id=\"T_17774_row5_col2\" class=\"data row5 col2\" >0.00</td>\n",
       "                        <td id=\"T_17774_row5_col3\" class=\"data row5 col3\" >0.15</td>\n",
       "                        <td id=\"T_17774_row5_col4\" class=\"data row5 col4\" >0.00</td>\n",
       "                        <td id=\"T_17774_row5_col5\" class=\"data row5 col5\" >0.00</td>\n",
       "                        <td id=\"T_17774_row5_col6\" class=\"data row5 col6\" >0.06</td>\n",
       "                        <td id=\"T_17774_row5_col7\" class=\"data row5 col7\" >0.05</td>\n",
       "                        <td id=\"T_17774_row5_col8\" class=\"data row5 col8\" >0.02</td>\n",
       "            </tr>\n",
       "            <tr>\n",
       "                        <th id=\"T_17774_level0_row6\" class=\"row_heading level0 row6\" >proteines</th>\n",
       "                        <td id=\"T_17774_row6_col0\" class=\"data row6 col0\" >0.00</td>\n",
       "                        <td id=\"T_17774_row6_col1\" class=\"data row6 col1\" >0.15</td>\n",
       "                        <td id=\"T_17774_row6_col2\" class=\"data row6 col2\" >0.00</td>\n",
       "                        <td id=\"T_17774_row6_col3\" class=\"data row6 col3\" >0.00</td>\n",
       "                        <td id=\"T_17774_row6_col4\" class=\"data row6 col4\" >0.84</td>\n",
       "                        <td id=\"T_17774_row6_col5\" class=\"data row6 col5\" >0.06</td>\n",
       "                        <td id=\"T_17774_row6_col6\" class=\"data row6 col6\" >0.00</td>\n",
       "                        <td id=\"T_17774_row6_col7\" class=\"data row6 col7\" >0.00</td>\n",
       "                        <td id=\"T_17774_row6_col8\" class=\"data row6 col8\" >0.00</td>\n",
       "            </tr>\n",
       "            <tr>\n",
       "                        <th id=\"T_17774_level0_row7\" class=\"row_heading level0 row7\" >cholesterol</th>\n",
       "                        <td id=\"T_17774_row7_col0\" class=\"data row7 col0\" >0.00</td>\n",
       "                        <td id=\"T_17774_row7_col1\" class=\"data row7 col1\" >0.08</td>\n",
       "                        <td id=\"T_17774_row7_col2\" class=\"data row7 col2\" >0.02</td>\n",
       "                        <td id=\"T_17774_row7_col3\" class=\"data row7 col3\" >0.00</td>\n",
       "                        <td id=\"T_17774_row7_col4\" class=\"data row7 col4\" >0.65</td>\n",
       "                        <td id=\"T_17774_row7_col5\" class=\"data row7 col5\" >0.05</td>\n",
       "                        <td id=\"T_17774_row7_col6\" class=\"data row7 col6\" >0.00</td>\n",
       "                        <td id=\"T_17774_row7_col7\" class=\"data row7 col7\" >0.00</td>\n",
       "                        <td id=\"T_17774_row7_col8\" class=\"data row7 col8\" >0.00</td>\n",
       "            </tr>\n",
       "            <tr>\n",
       "                        <th id=\"T_17774_level0_row8\" class=\"row_heading level0 row8\" >magnesium</th>\n",
       "                        <td id=\"T_17774_row8_col0\" class=\"data row8 col0\" >0.00</td>\n",
       "                        <td id=\"T_17774_row8_col1\" class=\"data row8 col1\" >0.87</td>\n",
       "                        <td id=\"T_17774_row8_col2\" class=\"data row8 col2\" >0.00</td>\n",
       "                        <td id=\"T_17774_row8_col3\" class=\"data row8 col3\" >0.00</td>\n",
       "                        <td id=\"T_17774_row8_col4\" class=\"data row8 col4\" >0.61</td>\n",
       "                        <td id=\"T_17774_row8_col5\" class=\"data row8 col5\" >0.02</td>\n",
       "                        <td id=\"T_17774_row8_col6\" class=\"data row8 col6\" >0.00</td>\n",
       "                        <td id=\"T_17774_row8_col7\" class=\"data row8 col7\" >0.00</td>\n",
       "                        <td id=\"T_17774_row8_col8\" class=\"data row8 col8\" >0.00</td>\n",
       "            </tr>\n",
       "    </tbody></table>"
      ],
      "text/plain": [
       "<pandas.io.formats.style.Styler at 0x7f17c4472fa0>"
      ]
     },
     "execution_count": 11,
     "metadata": {},
     "output_type": "execute_result"
    }
   ],
   "source": [
    "cm = sns.light_palette(\"green\", as_cmap=True) \n",
    "\n",
    "df_CR_pvalue.\\\n",
    "style.background_gradient(cmap=cm).set_precision(2)"
   ]
  },
  {
   "cell_type": "markdown",
   "metadata": {},
   "source": [
    "💡 On obtient bien les mêmes p-value si on centre et on réduit"
   ]
  },
  {
   "cell_type": "markdown",
   "metadata": {},
   "source": [
    "## ⛔ Cas de relation non linéaire"
   ]
  },
  {
   "cell_type": "markdown",
   "metadata": {},
   "source": [
    "Les différents coefficients de corrélation sont beaucoup plus adaptés aux relation linéaire. C’est pourquoi il est important de toujours visualiser les distributions.\n",
    "\n",
    "Plus d'infos [ici](http://grasland.script.univ-paris-diderot.fr/STAT98/stat98_6/stat98_6.htm)"
   ]
  },
  {
   "cell_type": "code",
   "execution_count": 13,
   "metadata": {},
   "outputs": [],
   "source": [
    "from sklearn.datasets import make_regression, make_circles\n",
    "from scipy.stats import kendalltau, spearmanr"
   ]
  },
  {
   "cell_type": "markdown",
   "metadata": {},
   "source": [
    "### Cas d'une relation linéaire et monotone"
   ]
  },
  {
   "cell_type": "code",
   "execution_count": 14,
   "metadata": {},
   "outputs": [
    {
     "data": {
      "image/png": "[encoded data removed]",
      "text/plain": [
       "<Figure size 720x288 with 1 Axes>"
      ]
     },
     "metadata": {},
     "output_type": "display_data"
    }
   ],
   "source": [
    "X, y = make_regression(n_samples=1000, n_features=1,\n",
    "                                      n_informative=1, noise=50, random_state=0)\n",
    "\n",
    "plt.scatter(X, y, edgecolor='k', marker='.')\n",
    "x = pd.DataFrame(X, columns = ['x'])\n",
    "y = pd.DataFrame(y, columns = ['y'])"
   ]
  },
  {
   "cell_type": "code",
   "execution_count": 15,
   "metadata": {},
   "outputs": [
    {
     "name": "stdout",
     "output_type": "stream",
     "text": [
      "Pearson (0.8522914621548177, 3.9071630180850793e-283)\n",
      "KendalltauResult(correlation=0.650034034034034, pvalue=4.861439501214572e-208)\n",
      "SpearmanrResult(correlation=0.8403487803487804, pvalue=1.1110733387280784e-267)\n"
     ]
    }
   ],
   "source": [
    "print(\"Pearson \" + str(pearsonr(x.x, y.y)))\n",
    "print(kendalltau(x.x, y.y))\n",
    "print(spearmanr(x.x, y.y))"
   ]
  },
  {
   "cell_type": "markdown",
   "metadata": {},
   "source": [
    "### Cas d'une relation non-linéaire et non-monotone"
   ]
  },
  {
   "cell_type": "markdown",
   "metadata": {},
   "source": [
    "La parabole "
   ]
  },
  {
   "cell_type": "code",
   "execution_count": 17,
   "metadata": {},
   "outputs": [
    {
     "data": {
      "image/png": "[encoded data removed]",
      "text/plain": [
       "<Figure size 648x576 with 1 Axes>"
      ]
     },
     "metadata": {},
     "output_type": "display_data"
    },
    {
     "name": "stdout",
     "output_type": "stream",
     "text": [
      "Pearson (0.007375688171047097, 0.9594565841838587)\n",
      "KendalltauResult(correlation=0.02857142857142857, pvalue=0.7696979437812898)\n",
      "SpearmanrResult(correlation=0.027130852340936373, pvalue=0.8516401233148823)\n"
     ]
    }
   ],
   "source": [
    "X_hyperbole = X[X.y < 0]\n",
    "fig = plt.figure(figsize=(9, 8))\n",
    "ax = plt.subplot(221)\n",
    "ax.scatter(X_hyperbole.x, X_hyperbole.y, s=50, edgecolor='k')\n",
    "plt.show()\n",
    "\n",
    "print(\"Pearson \" + str(pearsonr(X_hyperbole.x, X_hyperbole.y)))\n",
    "print(kendalltau(X_hyperbole.x, X_hyperbole.y))\n",
    "print(spearmanr(X_hyperbole.x, X_hyperbole.y))"
   ]
  },
  {
   "cell_type": "markdown",
   "metadata": {},
   "source": [
    "Le cercle"
   ]
  },
  {
   "cell_type": "code",
   "execution_count": 16,
   "metadata": {},
   "outputs": [
    {
     "data": {
      "image/png": "[encoded data removed]",
      "text/plain": [
       "<Figure size 648x576 with 1 Axes>"
      ]
     },
     "metadata": {},
     "output_type": "display_data"
    },
    {
     "name": "stdout",
     "output_type": "stream",
     "text": [
      "Pearson (-0.002463789884299965, 0.9805908411995362)\n",
      "KendalltauResult(correlation=-0.0008080808080808082, pvalue=0.9904954511734626)\n",
      "SpearmanrResult(correlation=0.0065406540654065395, pvalue=0.9485045076254706)\n"
     ]
    }
   ],
   "source": [
    "X = make_circles(n_samples=100,factor=0.99, random_state=0, noise=0.05)[0]\n",
    "X = pd.DataFrame(X, columns=['x','y'])\n",
    "fig = plt.figure(figsize=(9, 8))\n",
    "ax = plt.subplot(221)\n",
    "ax.scatter(X.x, X.y, s=50, edgecolor='k')\n",
    "plt.show()\n",
    "\n",
    "print(\"Pearson \" + str(pearsonr(X.x, X.y)))\n",
    "print(kendalltau(X.x, X.y))\n",
    "print(spearmanr(X.x, X.y))"
   ]
  },
  {
   "cell_type": "markdown",
   "metadata": {},
   "source": [
    "# Test du Khi²"
   ]
  },
  {
   "cell_type": "markdown",
   "metadata": {},
   "source": [
    "L'intérêt du test du Khi² est de mesurer l'indépendance entre deux variables qualitatives à partir du tableau de contigence."
   ]
  },
  {
   "cell_type": "markdown",
   "metadata": {},
   "source": [
    "On travaille sur le jeu de données Titanic 🧊⛴ disponible en [cliquant ici]()"
   ]
  },
  {
   "cell_type": "code",
   "execution_count": 18,
   "metadata": {},
   "outputs": [
    {
     "data": {
      "text/html": [
       "<div>\n",
       "<style scoped>\n",
       "    .dataframe tbody tr th:only-of-type {\n",
       "        vertical-align: middle;\n",
       "    }\n",
       "\n",
       "    .dataframe tbody tr th {\n",
       "        vertical-align: top;\n",
       "    }\n",
       "\n",
       "    .dataframe thead th {\n",
       "        text-align: right;\n",
       "    }\n",
       "</style>\n",
       "<table border=\"1\" class=\"dataframe\">\n",
       "  <thead>\n",
       "    <tr style=\"text-align: right;\">\n",
       "      <th></th>\n",
       "      <th>Name</th>\n",
       "      <th>PClass</th>\n",
       "      <th>Age</th>\n",
       "      <th>Sex</th>\n",
       "      <th>Survived</th>\n",
       "      <th>SexCode</th>\n",
       "    </tr>\n",
       "  </thead>\n",
       "  <tbody>\n",
       "    <tr>\n",
       "      <th>1</th>\n",
       "      <td>Allen, Miss Elisabeth Walton</td>\n",
       "      <td>1st</td>\n",
       "      <td>29.00</td>\n",
       "      <td>female</td>\n",
       "      <td>1</td>\n",
       "      <td>1</td>\n",
       "    </tr>\n",
       "    <tr>\n",
       "      <th>2</th>\n",
       "      <td>Allison, Miss Helen Loraine</td>\n",
       "      <td>1st</td>\n",
       "      <td>2.00</td>\n",
       "      <td>female</td>\n",
       "      <td>0</td>\n",
       "      <td>1</td>\n",
       "    </tr>\n",
       "    <tr>\n",
       "      <th>3</th>\n",
       "      <td>Allison, Mr Hudson Joshua Creighton</td>\n",
       "      <td>1st</td>\n",
       "      <td>30.00</td>\n",
       "      <td>male</td>\n",
       "      <td>0</td>\n",
       "      <td>0</td>\n",
       "    </tr>\n",
       "    <tr>\n",
       "      <th>4</th>\n",
       "      <td>Allison, Mrs Hudson JC (Bessie Waldo Daniels)</td>\n",
       "      <td>1st</td>\n",
       "      <td>25.00</td>\n",
       "      <td>female</td>\n",
       "      <td>0</td>\n",
       "      <td>1</td>\n",
       "    </tr>\n",
       "    <tr>\n",
       "      <th>5</th>\n",
       "      <td>Allison, Master Hudson Trevor</td>\n",
       "      <td>1st</td>\n",
       "      <td>0.92</td>\n",
       "      <td>male</td>\n",
       "      <td>1</td>\n",
       "      <td>0</td>\n",
       "    </tr>\n",
       "  </tbody>\n",
       "</table>\n",
       "</div>"
      ],
      "text/plain": [
       "                                            Name PClass    Age     Sex  \\\n",
       "1                   Allen, Miss Elisabeth Walton    1st  29.00  female   \n",
       "2                    Allison, Miss Helen Loraine    1st   2.00  female   \n",
       "3            Allison, Mr Hudson Joshua Creighton    1st  30.00    male   \n",
       "4  Allison, Mrs Hudson JC (Bessie Waldo Daniels)    1st  25.00  female   \n",
       "5                  Allison, Master Hudson Trevor    1st   0.92    male   \n",
       "\n",
       "   Survived  SexCode  \n",
       "1         1        1  \n",
       "2         0        1  \n",
       "3         0        0  \n",
       "4         0        1  \n",
       "5         1        0  "
      ]
     },
     "execution_count": 18,
     "metadata": {},
     "output_type": "execute_result"
    }
   ],
   "source": [
    "df = pd.read_csv(\"../Dataset/Titanic.csv\", index_col=0)\n",
    "df.head()"
   ]
  },
  {
   "cell_type": "code",
   "execution_count": 20,
   "metadata": {},
   "outputs": [
    {
     "data": {
      "text/html": [
       "<div>\n",
       "<style scoped>\n",
       "    .dataframe tbody tr th:only-of-type {\n",
       "        vertical-align: middle;\n",
       "    }\n",
       "\n",
       "    .dataframe tbody tr th {\n",
       "        vertical-align: top;\n",
       "    }\n",
       "\n",
       "    .dataframe thead th {\n",
       "        text-align: right;\n",
       "    }\n",
       "</style>\n",
       "<table border=\"1\" class=\"dataframe\">\n",
       "  <thead>\n",
       "    <tr style=\"text-align: right;\">\n",
       "      <th>PClass</th>\n",
       "      <th>1st</th>\n",
       "      <th>2nd</th>\n",
       "      <th>3rd</th>\n",
       "    </tr>\n",
       "    <tr>\n",
       "      <th>Survived</th>\n",
       "      <th></th>\n",
       "      <th></th>\n",
       "      <th></th>\n",
       "    </tr>\n",
       "  </thead>\n",
       "  <tbody>\n",
       "    <tr>\n",
       "      <th>0</th>\n",
       "      <td>129</td>\n",
       "      <td>161</td>\n",
       "      <td>573</td>\n",
       "    </tr>\n",
       "    <tr>\n",
       "      <th>1</th>\n",
       "      <td>193</td>\n",
       "      <td>119</td>\n",
       "      <td>138</td>\n",
       "    </tr>\n",
       "  </tbody>\n",
       "</table>\n",
       "</div>"
      ],
      "text/plain": [
       "PClass    1st  2nd  3rd\n",
       "Survived               \n",
       "0         129  161  573\n",
       "1         193  119  138"
      ]
     },
     "execution_count": 20,
     "metadata": {},
     "output_type": "execute_result"
    }
   ],
   "source": [
    "df_count = pd.crosstab(df.Survived, df.PClass)\n",
    "df_count"
   ]
  },
  {
   "cell_type": "markdown",
   "metadata": {},
   "source": [
    "On pose les hypothèses de départ :\n",
    "\n",
    "* H0 : Variables indépendantes si p-value > 5%\n",
    "* H1 : Variables non indépendantes si p-value < 5%"
   ]
  },
  {
   "cell_type": "markdown",
   "metadata": {},
   "source": [
    "### Survived vs PClass"
   ]
  },
  {
   "cell_type": "code",
   "execution_count": 22,
   "metadata": {},
   "outputs": [],
   "source": [
    "from scipy.stats import chi2_contingency\n",
    "Khi2_obs, p_value, ddl, effectif_theorique = chi2_contingency(df_count)"
   ]
  },
  {
   "cell_type": "code",
   "execution_count": 23,
   "metadata": {},
   "outputs": [
    {
     "data": {
      "text/plain": [
       "3.852315502424536e-38"
      ]
     },
     "execution_count": 23,
     "metadata": {},
     "output_type": "execute_result"
    }
   ],
   "source": [
    "p_value"
   ]
  },
  {
   "cell_type": "markdown",
   "metadata": {},
   "source": [
    "H0 : Variables indépendantes si p-value > 5%\n",
    "<br> ~H1 : Variables non indépendantes si p-value < 5%~\n"
   ]
  },
  {
   "cell_type": "markdown",
   "metadata": {},
   "source": [
    "### Exemple sur données fictives"
   ]
  },
  {
   "cell_type": "code",
   "execution_count": 24,
   "metadata": {},
   "outputs": [
    {
     "data": {
      "text/plain": [
       "(6.050399610728231,\n",
       " 0.1091837556828247,\n",
       " 3,\n",
       " array([[712.61335934, 873.91808874, 542.47001463, 136.9985373 ],\n",
       "        [577.38664066, 708.08191126, 439.52998537, 111.0014627 ]]))"
      ]
     },
     "execution_count": 24,
     "metadata": {},
     "output_type": "execute_result"
    }
   ],
   "source": [
    "obs = np.array([[693,886,534,153], [597,696,448,95]])\n",
    "chi2_contingency(obs)"
   ]
  },
  {
   "cell_type": "markdown",
   "metadata": {},
   "source": [
    "H0 : Variables indépendantes si p-value > 5%\n",
    "<br> ~H1 : Variables non indépendantes si p-value < 5%~ <br>\n",
    "Si on veut rejeter H0 et prendre H1, j'ai 10,9% de chance de me tromper"
   ]
  },
  {
   "cell_type": "markdown",
   "metadata": {},
   "source": [
    "Le 10,9% correspond à la probabilité de rejeter à tord H0. Comment la calculer ?"
   ]
  },
  {
   "cell_type": "markdown",
   "metadata": {},
   "source": [
    " Lecture dans la table du Chi2"
   ]
  },
  {
   "cell_type": "code",
   "execution_count": 25,
   "metadata": {},
   "outputs": [
    {
     "data": {
      "text/html": [
       "<div>\n",
       "<style scoped>\n",
       "    .dataframe tbody tr th:only-of-type {\n",
       "        vertical-align: middle;\n",
       "    }\n",
       "\n",
       "    .dataframe tbody tr th {\n",
       "        vertical-align: top;\n",
       "    }\n",
       "\n",
       "    .dataframe thead th {\n",
       "        text-align: right;\n",
       "    }\n",
       "</style>\n",
       "<table border=\"1\" class=\"dataframe\">\n",
       "  <thead>\n",
       "    <tr style=\"text-align: right;\">\n",
       "      <th></th>\n",
       "      <th>0.050</th>\n",
       "      <th>0.055</th>\n",
       "      <th>0.060</th>\n",
       "      <th>0.065</th>\n",
       "      <th>0.070</th>\n",
       "      <th>0.075</th>\n",
       "      <th>0.080</th>\n",
       "      <th>0.085</th>\n",
       "      <th>0.090</th>\n",
       "      <th>0.095</th>\n",
       "      <th>0.100</th>\n",
       "      <th>0.105</th>\n",
       "      <th>0.110</th>\n",
       "      <th>0.115</th>\n",
       "      <th>0.120</th>\n",
       "      <th>0.125</th>\n",
       "      <th>0.130</th>\n",
       "      <th>0.135</th>\n",
       "      <th>0.140</th>\n",
       "      <th>0.145</th>\n",
       "    </tr>\n",
       "  </thead>\n",
       "  <tbody>\n",
       "    <tr>\n",
       "      <th>1</th>\n",
       "      <td>3.84146</td>\n",
       "      <td>3.68209</td>\n",
       "      <td>3.53738</td>\n",
       "      <td>3.40498</td>\n",
       "      <td>3.28302</td>\n",
       "      <td>3.17005</td>\n",
       "      <td>3.06490</td>\n",
       "      <td>2.96661</td>\n",
       "      <td>2.87437</td>\n",
       "      <td>2.78754</td>\n",
       "      <td>2.70554</td>\n",
       "      <td>2.62791</td>\n",
       "      <td>2.55422</td>\n",
       "      <td>2.48413</td>\n",
       "      <td>2.41732</td>\n",
       "      <td>2.35353</td>\n",
       "      <td>2.29250</td>\n",
       "      <td>2.23405</td>\n",
       "      <td>2.17796</td>\n",
       "      <td>2.12408</td>\n",
       "    </tr>\n",
       "    <tr>\n",
       "      <th>2</th>\n",
       "      <td>5.99146</td>\n",
       "      <td>5.80084</td>\n",
       "      <td>5.62682</td>\n",
       "      <td>5.46674</td>\n",
       "      <td>5.31852</td>\n",
       "      <td>5.18053</td>\n",
       "      <td>5.05146</td>\n",
       "      <td>4.93021</td>\n",
       "      <td>4.81589</td>\n",
       "      <td>4.70776</td>\n",
       "      <td>4.60517</td>\n",
       "      <td>4.50759</td>\n",
       "      <td>4.41455</td>\n",
       "      <td>4.32565</td>\n",
       "      <td>4.24053</td>\n",
       "      <td>4.15888</td>\n",
       "      <td>4.08044</td>\n",
       "      <td>4.00496</td>\n",
       "      <td>3.93223</td>\n",
       "      <td>3.86204</td>\n",
       "    </tr>\n",
       "    <tr>\n",
       "      <th>3</th>\n",
       "      <td>7.81473</td>\n",
       "      <td>7.60179</td>\n",
       "      <td>7.40688</td>\n",
       "      <td>7.22713</td>\n",
       "      <td>7.06031</td>\n",
       "      <td>6.90464</td>\n",
       "      <td>6.75869</td>\n",
       "      <td>6.62129</td>\n",
       "      <td>6.49146</td>\n",
       "      <td>6.36839</td>\n",
       "      <td>6.25139</td>\n",
       "      <td>6.13987</td>\n",
       "      <td>6.03333</td>\n",
       "      <td>5.93132</td>\n",
       "      <td>5.83346</td>\n",
       "      <td>5.73941</td>\n",
       "      <td>5.64888</td>\n",
       "      <td>5.56161</td>\n",
       "      <td>5.47734</td>\n",
       "      <td>5.39589</td>\n",
       "    </tr>\n",
       "    <tr>\n",
       "      <th>4</th>\n",
       "      <td>9.48773</td>\n",
       "      <td>9.25643</td>\n",
       "      <td>9.04437</td>\n",
       "      <td>8.84849</td>\n",
       "      <td>8.66643</td>\n",
       "      <td>8.49628</td>\n",
       "      <td>8.33653</td>\n",
       "      <td>8.18593</td>\n",
       "      <td>8.04344</td>\n",
       "      <td>7.90818</td>\n",
       "      <td>7.77944</td>\n",
       "      <td>7.65657</td>\n",
       "      <td>7.53904</td>\n",
       "      <td>7.42638</td>\n",
       "      <td>7.31816</td>\n",
       "      <td>7.21405</td>\n",
       "      <td>7.11371</td>\n",
       "      <td>7.01686</td>\n",
       "      <td>6.92325</td>\n",
       "      <td>6.83266</td>\n",
       "    </tr>\n",
       "  </tbody>\n",
       "</table>\n",
       "</div>"
      ],
      "text/plain": [
       "     0.050    0.055    0.060    0.065    0.070    0.075    0.080    0.085  \\\n",
       "1  3.84146  3.68209  3.53738  3.40498  3.28302  3.17005  3.06490  2.96661   \n",
       "2  5.99146  5.80084  5.62682  5.46674  5.31852  5.18053  5.05146  4.93021   \n",
       "3  7.81473  7.60179  7.40688  7.22713  7.06031  6.90464  6.75869  6.62129   \n",
       "4  9.48773  9.25643  9.04437  8.84849  8.66643  8.49628  8.33653  8.18593   \n",
       "\n",
       "     0.090    0.095    0.100    0.105    0.110    0.115    0.120    0.125  \\\n",
       "1  2.87437  2.78754  2.70554  2.62791  2.55422  2.48413  2.41732  2.35353   \n",
       "2  4.81589  4.70776  4.60517  4.50759  4.41455  4.32565  4.24053  4.15888   \n",
       "3  6.49146  6.36839  6.25139  6.13987  6.03333  5.93132  5.83346  5.73941   \n",
       "4  8.04344  7.90818  7.77944  7.65657  7.53904  7.42638  7.31816  7.21405   \n",
       "\n",
       "     0.130    0.135    0.140    0.145  \n",
       "1  2.29250  2.23405  2.17796  2.12408  \n",
       "2  4.08044  4.00496  3.93223  3.86204  \n",
       "3  5.64888  5.56161  5.47734  5.39589  \n",
       "4  7.11371  7.01686  6.92325  6.83266  "
      ]
     },
     "execution_count": 25,
     "metadata": {},
     "output_type": "execute_result"
    }
   ],
   "source": [
    "from scipy.stats import chi2\n",
    "J = df = np.arange(1,5,1)\n",
    "I = np.arange(0.05,0.15,0.005)\n",
    "\n",
    "a = np.empty((len(J),len(I)))\n",
    "a[:] = np.nan\n",
    "\n",
    "for i in range(0,len(I)):\n",
    "    for j in range(0,len(J)):\n",
    "        a[j,i] = chi2.isf(I[i], J[j])\n",
    "        \n",
    "df_chi2 = round(pd.DataFrame(a, columns=I, index = J),5)\n",
    "df_chi2"
   ]
  },
  {
   "cell_type": "markdown",
   "metadata": {},
   "source": [
    "On cherche quelle est la probabilité critique pour laquelle **Khi2_obs** < Khi2_max de la table sur la ligne correspond à notre nombre de degré de liberté **ddl**"
   ]
  },
  {
   "cell_type": "markdown",
   "metadata": {},
   "source": [
    "### 📢 Taille de l'échantillon"
   ]
  },
  {
   "cell_type": "markdown",
   "metadata": {},
   "source": [
    "Les tests d'indépendance sont trés sensibles à la taille des échantillons. Ici on divise par 100 pour avoir des effectifs faibles mais en conservant les répartitions."
   ]
  },
  {
   "cell_type": "code",
   "execution_count": 27,
   "metadata": {},
   "outputs": [
    {
     "data": {
      "text/plain": [
       "(0.060503996107282396,\n",
       " 0.996112901286428,\n",
       " 3,\n",
       " array([[7.12613359, 8.73918089, 5.42470015, 1.36998537],\n",
       "        [5.77386641, 7.08081911, 4.39529985, 1.11001463]]))"
      ]
     },
     "execution_count": 27,
     "metadata": {},
     "output_type": "execute_result"
    }
   ],
   "source": [
    "chi2_contingency(obs/100)"
   ]
  },
  {
   "cell_type": "markdown",
   "metadata": {},
   "source": [
    "H0 : Variables indépendantes si p-value > 5%\n",
    "<br> ~H1 : Variables non indépendantes si p-value < 5%~ <br>"
   ]
  },
  {
   "cell_type": "markdown",
   "metadata": {},
   "source": [
    "Ici on multiplie par 100 pour avoir des effectifs grands mais en conservant les répartitions."
   ]
  },
  {
   "cell_type": "code",
   "execution_count": 28,
   "metadata": {
    "scrolled": true
   },
   "outputs": [
    {
     "data": {
      "text/plain": [
       "(605.039961072823,\n",
       " 8.14310251740213e-131,\n",
       " 3,\n",
       " array([[71261.33593369, 87391.80887372, 54247.0014627 , 13699.85372989],\n",
       "        [57738.66406631, 70808.19112628, 43952.9985373 , 11100.14627011]]))"
      ]
     },
     "execution_count": 28,
     "metadata": {},
     "output_type": "execute_result"
    }
   ],
   "source": [
    "chi2_contingency(obs*100)"
   ]
  },
  {
   "cell_type": "markdown",
   "metadata": {},
   "source": [
    "~H0 : Variables indépendantes si p-value > 5%~\n",
    "<br> H1 : Variables non indépendantes si p-value < 5%"
   ]
  },
  {
   "cell_type": "markdown",
   "metadata": {},
   "source": [
    "# ANOVA"
   ]
  },
  {
   "cell_type": "markdown",
   "metadata": {},
   "source": [
    "## Anova à 1 facteur"
   ]
  },
  {
   "cell_type": "markdown",
   "metadata": {},
   "source": [
    "On effectue une analyse de variance pour mesurer l’indépendance entre une variable qualitative et une quantitative."
   ]
  },
  {
   "cell_type": "markdown",
   "metadata": {},
   "source": [
    "Exemple sur le dataset Hotdogs 🌭 disponible en [cliquant ici]()."
   ]
  },
  {
   "cell_type": "code",
   "execution_count": 56,
   "metadata": {},
   "outputs": [
    {
     "data": {
      "text/html": [
       "<div>\n",
       "<style scoped>\n",
       "    .dataframe tbody tr th:only-of-type {\n",
       "        vertical-align: middle;\n",
       "    }\n",
       "\n",
       "    .dataframe tbody tr th {\n",
       "        vertical-align: top;\n",
       "    }\n",
       "\n",
       "    .dataframe thead th {\n",
       "        text-align: right;\n",
       "    }\n",
       "</style>\n",
       "<table border=\"1\" class=\"dataframe\">\n",
       "  <thead>\n",
       "    <tr style=\"text-align: right;\">\n",
       "      <th></th>\n",
       "      <th>Type</th>\n",
       "      <th>Calories</th>\n",
       "      <th>Sodium</th>\n",
       "    </tr>\n",
       "  </thead>\n",
       "  <tbody>\n",
       "    <tr>\n",
       "      <th>0</th>\n",
       "      <td>Beef</td>\n",
       "      <td>186</td>\n",
       "      <td>495</td>\n",
       "    </tr>\n",
       "    <tr>\n",
       "      <th>1</th>\n",
       "      <td>Beef</td>\n",
       "      <td>181</td>\n",
       "      <td>477</td>\n",
       "    </tr>\n",
       "    <tr>\n",
       "      <th>2</th>\n",
       "      <td>Beef</td>\n",
       "      <td>176</td>\n",
       "      <td>425</td>\n",
       "    </tr>\n",
       "    <tr>\n",
       "      <th>3</th>\n",
       "      <td>Beef</td>\n",
       "      <td>149</td>\n",
       "      <td>322</td>\n",
       "    </tr>\n",
       "    <tr>\n",
       "      <th>4</th>\n",
       "      <td>Beef</td>\n",
       "      <td>184</td>\n",
       "      <td>482</td>\n",
       "    </tr>\n",
       "  </tbody>\n",
       "</table>\n",
       "</div>"
      ],
      "text/plain": [
       "   Type  Calories  Sodium\n",
       "0  Beef       186     495\n",
       "1  Beef       181     477\n",
       "2  Beef       176     425\n",
       "3  Beef       149     322\n",
       "4  Beef       184     482"
      ]
     },
     "execution_count": 56,
     "metadata": {},
     "output_type": "execute_result"
    }
   ],
   "source": [
    "df = pd.read_csv(\"../Dataset/Hotdogs.csv\", sep = \";\")\n",
    "df.head()"
   ]
  },
  {
   "cell_type": "code",
   "execution_count": 38,
   "metadata": {},
   "outputs": [
    {
     "data": {
      "text/plain": [
       "array(['Beef', 'Meat', 'Poultry'], dtype=object)"
      ]
     },
     "execution_count": 38,
     "metadata": {},
     "output_type": "execute_result"
    }
   ],
   "source": [
    "df.Type.unique()"
   ]
  },
  {
   "cell_type": "markdown",
   "metadata": {},
   "source": [
    "On va tester l’indépendance entre la variable qualitative Type et la variable quantitatives Calories."
   ]
  },
  {
   "cell_type": "code",
   "execution_count": 39,
   "metadata": {},
   "outputs": [
    {
     "data": {
      "image/png": "[encoded data removed]",
      "text/plain": [
       "<Figure size 1440x288 with 1 Axes>"
      ]
     },
     "metadata": {},
     "output_type": "display_data"
    }
   ],
   "source": [
    "plt.subplots(figsize=(20,4))\n",
    "ax = sns.boxplot(x=\"Calories\", y=\"Type\", data=df)"
   ]
  },
  {
   "cell_type": "markdown",
   "metadata": {},
   "source": [
    "Dans une ANOVA, on cherche à déterminer si les moyennes des groupes sont significativement différentes. On pose donc :\n",
    "\n",
    "* H0 : Les moyennes de chaque groupe sont égales si p-value > 5%\n",
    "* H1 : Les moyennes de chaque groupe ne sont pas toutes égales si p-value < 5%"
   ]
  },
  {
   "cell_type": "code",
   "execution_count": 41,
   "metadata": {},
   "outputs": [
    {
     "data": {
      "text/html": [
       "<div>\n",
       "<style scoped>\n",
       "    .dataframe tbody tr th:only-of-type {\n",
       "        vertical-align: middle;\n",
       "    }\n",
       "\n",
       "    .dataframe tbody tr th {\n",
       "        vertical-align: top;\n",
       "    }\n",
       "\n",
       "    .dataframe thead th {\n",
       "        text-align: right;\n",
       "    }\n",
       "</style>\n",
       "<table border=\"1\" class=\"dataframe\">\n",
       "  <thead>\n",
       "    <tr style=\"text-align: right;\">\n",
       "      <th></th>\n",
       "      <th>sum_sq</th>\n",
       "      <th>df</th>\n",
       "      <th>F</th>\n",
       "      <th>PR(&gt;F)</th>\n",
       "    </tr>\n",
       "  </thead>\n",
       "  <tbody>\n",
       "    <tr>\n",
       "      <th>Type</th>\n",
       "      <td>17692.195098</td>\n",
       "      <td>2.0</td>\n",
       "      <td>16.073993</td>\n",
       "      <td>0.000004</td>\n",
       "    </tr>\n",
       "    <tr>\n",
       "      <th>Residual</th>\n",
       "      <td>28067.138235</td>\n",
       "      <td>51.0</td>\n",
       "      <td>NaN</td>\n",
       "      <td>NaN</td>\n",
       "    </tr>\n",
       "  </tbody>\n",
       "</table>\n",
       "</div>"
      ],
      "text/plain": [
       "                sum_sq    df          F    PR(>F)\n",
       "Type      17692.195098   2.0  16.073993  0.000004\n",
       "Residual  28067.138235  51.0        NaN       NaN"
      ]
     },
     "execution_count": 41,
     "metadata": {},
     "output_type": "execute_result"
    }
   ],
   "source": [
    "import statsmodels.api as sm\n",
    "from statsmodels.formula.api import ols\n",
    "model = ols('Calories ~ Type', data=df).fit()\n",
    "anova_table = sm.stats.anova_lm(model, typ=2)\n",
    "anova_table"
   ]
  },
  {
   "cell_type": "markdown",
   "metadata": {},
   "source": [
    "~H0 : Les moyennes de chaque groupe sont égales si p-value > 5%~\n",
    "<br> H1 : Les moyennes de chaque groupe ne sont pas toutes égales < 5%"
   ]
  },
  {
   "cell_type": "markdown",
   "metadata": {},
   "source": [
    "Quand on dispose d’un petit échantillon, la pertinence de ce test repose sur la validation de plusieurs hypothèses :\n",
    "\n",
    "* l’indépendance entre les échantillons de chaque groupe\n",
    "* l’égalité des variances que l’on peut verifier avec un test de Bartlett.\n",
    "* la normalité des résidus avec un test de Shapiro."
   ]
  },
  {
   "cell_type": "markdown",
   "metadata": {},
   "source": [
    "### L'indépendance"
   ]
  },
  {
   "cell_type": "markdown",
   "metadata": {},
   "source": [
    "L’indépendance est une des 3 conditions de validité d’une ANOVA. Seul le contexte de l’étude permet de s’assurer de l’indépendance entre les échantillons de chaque groupe (ici beef, poultry, chicken.)"
   ]
  },
  {
   "cell_type": "markdown",
   "metadata": {},
   "source": [
    "### L’égalité des variances"
   ]
  },
  {
   "cell_type": "markdown",
   "metadata": {},
   "source": [
    "On parle aussi d’homoscédasticité. C’est une des 3 conditions de validité d’une ANOVA. On cherche à démontrer que les variances de chaque groupe sont égales. Dans un boxplot, l’amplitude des boîtes traduit graphiquement l’égalité des variances."
   ]
  },
  {
   "cell_type": "code",
   "execution_count": 57,
   "metadata": {},
   "outputs": [
    {
     "data": {
      "image/png": "[encoded data removed]",
      "text/plain": [
       "<Figure size 1440x288 with 1 Axes>"
      ]
     },
     "metadata": {},
     "output_type": "display_data"
    }
   ],
   "source": [
    "plt.subplots(figsize=(20,4))\n",
    "ax = sns.boxplot(x=\"Calories\", y=\"Type\", data=df)"
   ]
  },
  {
   "cell_type": "code",
   "execution_count": 59,
   "metadata": {},
   "outputs": [
    {
     "data": {
      "text/plain": [
       "Type\n",
       "Beef       512.660526\n",
       "Meat       636.845588\n",
       "Poultry    508.566176\n",
       "Name: Calories, dtype: float64"
      ]
     },
     "execution_count": 59,
     "metadata": {},
     "output_type": "execute_result"
    }
   ],
   "source": [
    "df.groupby(\"Type\")['Calories'].agg('var')"
   ]
  },
  {
   "cell_type": "markdown",
   "metadata": {},
   "source": [
    "Mais c’est le test de bartlett qui permet de tester si les variances sont significativement différentes ou non avec :\n",
    "\n",
    "* H0 : Les variances de chaque groupe sont égales si p-value > 5%\n",
    "* H1 : Les variances de chaque groupe ne sont pas toutes égales < 5%"
   ]
  },
  {
   "cell_type": "code",
   "execution_count": 60,
   "metadata": {},
   "outputs": [
    {
     "data": {
      "text/plain": [
       "BartlettResult(statistic=0.26731777374070764, pvalue=0.8748884496460629)"
      ]
     },
     "execution_count": 60,
     "metadata": {},
     "output_type": "execute_result"
    }
   ],
   "source": [
    "bartlett(df.Calories[df.Type == 'Beef'],\n",
    "        df.Calories[df.Type == 'Meat'],\n",
    "        df.Calories[df.Type == 'Poultry'])"
   ]
  },
  {
   "cell_type": "markdown",
   "metadata": {},
   "source": [
    "* H0 : Les variances de chaque groupe sont égales si p-value > 5%\n",
    "* ~H1 : Les variances de chaque groupe ne sont pas toutes égales < 5%~\n",
    "\n",
    "Les variances de chaque groupe sont égales. La deuxième condition pour effectuer une anova est validée."
   ]
  },
  {
   "cell_type": "markdown",
   "metadata": {},
   "source": [
    "### Normalité des résidus"
   ]
  },
  {
   "cell_type": "markdown",
   "metadata": {},
   "source": [
    "C’est une des 3 conditions de validité d’une ANOVA. L’objectif est de s’assurer que les résidus suivent une loi normale afin de ne pas affirmer qu’il existe une différence de moyenne entre les groupes qui serait causée par le hasard.\n",
    "\n",
    "On utilise le test de Shapiro-Wilk pour tester la normalité des résidus où :\n",
    "\n",
    "* H0 : Les résidus suivent une loi normale si p-value > 5%\n",
    "* H1 : Les résidus ne suivent pas une loi normale si p-value < 5%"
   ]
  },
  {
   "cell_type": "code",
   "execution_count": 67,
   "metadata": {},
   "outputs": [
    {
     "data": {
      "text/plain": [
       "ShapiroResult(statistic=0.9419923424720764, pvalue=0.01129513792693615)"
      ]
     },
     "execution_count": 67,
     "metadata": {},
     "output_type": "execute_result"
    }
   ],
   "source": [
    "from scipy.stats import shapiro\n",
    "model = ols('Calories ~ Type', data=df).fit()\n",
    "shapiro(model.resid)"
   ]
  },
  {
   "cell_type": "markdown",
   "metadata": {},
   "source": [
    "* ~H0 : Les résidus suivent une loi normale si p-value > 5%~\n",
    "* H1 : Les résidus ne suivent pas une loi normale si p-value < 5%"
   ]
  },
  {
   "cell_type": "markdown",
   "metadata": {},
   "source": [
    "Néanmoins, les conclusions dépendent également tu risques qu'on souhaite. Si on veut  1% de chance de se tromper, alors on ne rejette pas H0 car la p-value > 1%"
   ]
  },
  {
   "cell_type": "markdown",
   "metadata": {},
   "source": [
    "### Cas de variances égales entre chaque groupe"
   ]
  },
  {
   "cell_type": "code",
   "execution_count": 30,
   "metadata": {},
   "outputs": [
    {
     "data": {
      "image/png": "[encoded data removed]",
      "text/plain": [
       "<Figure size 1440x288 with 1 Axes>"
      ]
     },
     "metadata": {},
     "output_type": "display_data"
    }
   ],
   "source": [
    "A = pd.Series(np.linspace(1,10,9), name='A')\n",
    "B = pd.Series(np.linspace(31,40,9), name='B')\n",
    "C = pd.Series(np.linspace(51,60,9), name='C')\n",
    "Groupe = pd.Series(['A', 'B', 'C']).repeat(9).to_list()\n",
    "\n",
    "frame = { 'Groupe': Groupe, 'Valeur': pd.concat([A, B, C]) } \n",
    "result = pd.DataFrame(frame) \n",
    "plt.subplots(figsize=(20,4))\n",
    "ax = sns.boxplot(x=\"Valeur\", y=\"Groupe\", data=result)"
   ]
  },
  {
   "cell_type": "markdown",
   "metadata": {},
   "source": [
    "On s'interesse au variance de chaque groupe"
   ]
  },
  {
   "cell_type": "code",
   "execution_count": 31,
   "metadata": {},
   "outputs": [
    {
     "data": {
      "text/plain": [
       "Groupe\n",
       "A    9.492188\n",
       "B    9.492188\n",
       "C    9.492188\n",
       "Name: Valeur, dtype: float64"
      ]
     },
     "execution_count": 31,
     "metadata": {},
     "output_type": "execute_result"
    }
   ],
   "source": [
    "result.groupby(\"Groupe\")['Valeur'].agg('var')"
   ]
  },
  {
   "cell_type": "markdown",
   "metadata": {},
   "source": [
    "Le test de bartlett permet de tester si les variances sont significativement différentes ou non"
   ]
  },
  {
   "cell_type": "code",
   "execution_count": 32,
   "metadata": {},
   "outputs": [
    {
     "data": {
      "text/plain": [
       "BartlettResult(statistic=0.0, pvalue=1.0)"
      ]
     },
     "execution_count": 32,
     "metadata": {},
     "output_type": "execute_result"
    }
   ],
   "source": [
    "from scipy.stats import bartlett\n",
    "bartlett(A, B, C)"
   ]
  },
  {
   "cell_type": "markdown",
   "metadata": {},
   "source": [
    "H0 : Les variances de chaque groupe sont égales si p-value > 5%\n",
    "<br> ~H1 : Les variances de chaque groupe ne sont pas toutes égales < 5%~\n",
    "<br> On peut donc faire une ANOVA"
   ]
  },
  {
   "cell_type": "code",
   "execution_count": 33,
   "metadata": {},
   "outputs": [],
   "source": [
    "import statsmodels.api as sm\n",
    "from statsmodels.formula.api import ols"
   ]
  },
  {
   "cell_type": "markdown",
   "metadata": {},
   "source": [
    "A travers l'analyse de la variance on cherche à déterminer si : <br>\n",
    "H0 : Les moyennes de chaque groupe sont égales si p-value > 5%\n",
    "<br> H1 : Les moyennes de chaque groupe ne sont pas toutes égales < 5%"
   ]
  },
  {
   "cell_type": "code",
   "execution_count": 34,
   "metadata": {},
   "outputs": [
    {
     "data": {
      "text/html": [
       "<div>\n",
       "<style scoped>\n",
       "    .dataframe tbody tr th:only-of-type {\n",
       "        vertical-align: middle;\n",
       "    }\n",
       "\n",
       "    .dataframe tbody tr th {\n",
       "        vertical-align: top;\n",
       "    }\n",
       "\n",
       "    .dataframe thead th {\n",
       "        text-align: right;\n",
       "    }\n",
       "</style>\n",
       "<table border=\"1\" class=\"dataframe\">\n",
       "  <thead>\n",
       "    <tr style=\"text-align: right;\">\n",
       "      <th></th>\n",
       "      <th>sum_sq</th>\n",
       "      <th>df</th>\n",
       "      <th>F</th>\n",
       "      <th>PR(&gt;F)</th>\n",
       "    </tr>\n",
       "  </thead>\n",
       "  <tbody>\n",
       "    <tr>\n",
       "      <th>Groupe</th>\n",
       "      <td>11400.0000</td>\n",
       "      <td>2.0</td>\n",
       "      <td>600.493827</td>\n",
       "      <td>3.198559e-21</td>\n",
       "    </tr>\n",
       "    <tr>\n",
       "      <th>Residual</th>\n",
       "      <td>227.8125</td>\n",
       "      <td>24.0</td>\n",
       "      <td>NaN</td>\n",
       "      <td>NaN</td>\n",
       "    </tr>\n",
       "  </tbody>\n",
       "</table>\n",
       "</div>"
      ],
      "text/plain": [
       "              sum_sq    df           F        PR(>F)\n",
       "Groupe    11400.0000   2.0  600.493827  3.198559e-21\n",
       "Residual    227.8125  24.0         NaN           NaN"
      ]
     },
     "execution_count": 34,
     "metadata": {},
     "output_type": "execute_result"
    }
   ],
   "source": [
    "model = ols('Valeur ~ Groupe', data=result).fit()\n",
    "anova_table = sm.stats.anova_lm(model, typ=2)\n",
    "anova_table"
   ]
  },
  {
   "cell_type": "markdown",
   "metadata": {},
   "source": [
    "~H0 : Les moyennes de chaque groupe sont égales si p-value > 5%~\n",
    "<br> H1 : Les moyennes de chaque groupe ne sont pas toutes égales < 5%"
   ]
  },
  {
   "cell_type": "markdown",
   "metadata": {},
   "source": [
    "### Cas de variances inégales entre chaque groupe"
   ]
  },
  {
   "cell_type": "code",
   "execution_count": 35,
   "metadata": {},
   "outputs": [
    {
     "data": {
      "image/png": "[encoded data removed]",
      "text/plain": [
       "<Figure size 1440x288 with 1 Axes>"
      ]
     },
     "metadata": {},
     "output_type": "display_data"
    }
   ],
   "source": [
    "A = pd.Series(np.linspace(1,7,9), name='A')\n",
    "B = pd.Series(np.linspace(31,50,9), name='B')\n",
    "C = pd.Series(np.linspace(50,100,9), name='C')\n",
    "Groupe = pd.Series(['A', 'B', 'C']).repeat(9).to_list()\n",
    "\n",
    "frame = { 'Groupe': Groupe, 'Valeur': pd.concat([A, B, C]) } \n",
    "result = pd.DataFrame(frame) \n",
    "plt.subplots(figsize=(20,4))\n",
    "ax = sns.boxplot(x=\"Valeur\", y=\"Groupe\", data=result)"
   ]
  },
  {
   "cell_type": "code",
   "execution_count": 36,
   "metadata": {},
   "outputs": [
    {
     "data": {
      "text/plain": [
       "BartlettResult(statistic=25.177363348990262, pvalue=3.410397602490597e-06)"
      ]
     },
     "execution_count": 36,
     "metadata": {},
     "output_type": "execute_result"
    }
   ],
   "source": [
    "bartlett(A, B, C)"
   ]
  },
  {
   "cell_type": "markdown",
   "metadata": {},
   "source": [
    "~H0 : Les variances de chaque groupe sont égales si p-value > 5%~\n",
    "<br> H1 : Les variances de chaque groupe ne sont pas toutes égales < 5%\n",
    "<br> Il n'est donc pas conseillé de réaliser une ANOVA car les résultats ne seraient pas fiables."
   ]
  },
  {
   "cell_type": "markdown",
   "metadata": {},
   "source": [
    "## Anova à 2 facteurs"
   ]
  },
  {
   "cell_type": "markdown",
   "metadata": {},
   "source": [
    "Même principe que l'Anova à un facteur sauf qu'on ajoute un autre facteur. L'idée est de tester l'indépendance de ces facteurs sur une variable quantitative continue "
   ]
  },
  {
   "cell_type": "markdown",
   "metadata": {},
   "source": [
    "On utilise le dataset ToothGrowth disponible en [cliquant ici](). On étudie la longueur des odontoblastes (cellules responsables de la croissance dentaire) chez 60 cobayes. Chaque animal a reçu l'une des trois doses de vitamine C (0,5, 1 et 2 mg / jour) par l'une des deux méthodes d'administration, du jus d'orange ou de l'acide ascorbique (une forme de vitamine C et codée VC) :\n",
    "\n",
    "* len : lLongueur de la dent\n",
    "* supp : supplément (VC ou OJ).\n",
    "* dose : dose en milligrammes / jour"
   ]
  },
  {
   "cell_type": "code",
   "execution_count": 42,
   "metadata": {},
   "outputs": [
    {
     "data": {
      "text/html": [
       "<div>\n",
       "<style scoped>\n",
       "    .dataframe tbody tr th:only-of-type {\n",
       "        vertical-align: middle;\n",
       "    }\n",
       "\n",
       "    .dataframe tbody tr th {\n",
       "        vertical-align: top;\n",
       "    }\n",
       "\n",
       "    .dataframe thead th {\n",
       "        text-align: right;\n",
       "    }\n",
       "</style>\n",
       "<table border=\"1\" class=\"dataframe\">\n",
       "  <thead>\n",
       "    <tr style=\"text-align: right;\">\n",
       "      <th></th>\n",
       "      <th>len</th>\n",
       "      <th>supp</th>\n",
       "      <th>dose</th>\n",
       "    </tr>\n",
       "  </thead>\n",
       "  <tbody>\n",
       "    <tr>\n",
       "      <th>0</th>\n",
       "      <td>4.2</td>\n",
       "      <td>VC</td>\n",
       "      <td>0.5</td>\n",
       "    </tr>\n",
       "    <tr>\n",
       "      <th>1</th>\n",
       "      <td>11.5</td>\n",
       "      <td>VC</td>\n",
       "      <td>0.5</td>\n",
       "    </tr>\n",
       "    <tr>\n",
       "      <th>2</th>\n",
       "      <td>7.3</td>\n",
       "      <td>VC</td>\n",
       "      <td>0.5</td>\n",
       "    </tr>\n",
       "  </tbody>\n",
       "</table>\n",
       "</div>"
      ],
      "text/plain": [
       "    len supp  dose\n",
       "0   4.2   VC   0.5\n",
       "1  11.5   VC   0.5\n",
       "2   7.3   VC   0.5"
      ]
     },
     "execution_count": 42,
     "metadata": {},
     "output_type": "execute_result"
    }
   ],
   "source": [
    "df = pd.read_csv(\"../Dataset/ToothGrowth.csv\")\n",
    "df.head(3)"
   ]
  },
  {
   "cell_type": "markdown",
   "metadata": {},
   "source": [
    "#### On étudie la variable supp"
   ]
  },
  {
   "cell_type": "code",
   "execution_count": 43,
   "metadata": {},
   "outputs": [
    {
     "data": {
      "text/plain": [
       "array(['VC', 'OJ'], dtype=object)"
      ]
     },
     "execution_count": 43,
     "metadata": {},
     "output_type": "execute_result"
    }
   ],
   "source": [
    "df.supp.unique()"
   ]
  },
  {
   "cell_type": "code",
   "execution_count": 44,
   "metadata": {},
   "outputs": [
    {
     "data": {
      "image/png": "[encoded data removed]",
      "text/plain": [
       "<Figure size 1440x144 with 1 Axes>"
      ]
     },
     "metadata": {},
     "output_type": "display_data"
    }
   ],
   "source": [
    "plt.subplots(figsize=(20,2))\n",
    "ax = sns.boxplot(x=\"len\", y=\"supp\", data=df)"
   ]
  },
  {
   "cell_type": "code",
   "execution_count": 45,
   "metadata": {},
   "outputs": [
    {
     "data": {
      "text/plain": [
       "BartlettResult(statistic=1.421682114943345, pvalue=0.23312673355220734)"
      ]
     },
     "execution_count": 45,
     "metadata": {},
     "output_type": "execute_result"
    }
   ],
   "source": [
    "bartlett(df.len[df.supp == 'VC'],\n",
    "        df.len[df.supp == 'OJ'])"
   ]
  },
  {
   "cell_type": "markdown",
   "metadata": {},
   "source": [
    "H0 : Les variances de chaque groupe sont égales si p-value > 5%\n",
    "<br> ~H1 : Les variances de chaque groupe ne sont pas toutes égales < 5%~"
   ]
  },
  {
   "cell_type": "markdown",
   "metadata": {},
   "source": [
    "#### On étudie la variable dose"
   ]
  },
  {
   "cell_type": "code",
   "execution_count": 46,
   "metadata": {},
   "outputs": [
    {
     "data": {
      "text/plain": [
       "array([0.5, 1. , 2. ])"
      ]
     },
     "execution_count": 46,
     "metadata": {},
     "output_type": "execute_result"
    }
   ],
   "source": [
    "df.dose.unique()"
   ]
  },
  {
   "cell_type": "code",
   "execution_count": 47,
   "metadata": {},
   "outputs": [],
   "source": [
    "df.dose = df.dose.astype('category')"
   ]
  },
  {
   "cell_type": "code",
   "execution_count": 48,
   "metadata": {},
   "outputs": [
    {
     "data": {
      "image/png": "[encoded data removed]",
      "text/plain": [
       "<Figure size 1440x144 with 1 Axes>"
      ]
     },
     "metadata": {},
     "output_type": "display_data"
    }
   ],
   "source": [
    "plt.subplots(figsize=(20,2))\n",
    "ax = sns.boxplot(x=\"len\", y=\"dose\", data=df)"
   ]
  },
  {
   "cell_type": "code",
   "execution_count": 49,
   "metadata": {},
   "outputs": [
    {
     "data": {
      "text/plain": [
       "BartlettResult(statistic=nan, pvalue=nan)"
      ]
     },
     "execution_count": 49,
     "metadata": {},
     "output_type": "execute_result"
    }
   ],
   "source": [
    "bartlett(df.len[df.dose == \"0.5\"],\n",
    "        df.len[df.dose == \"1.0\"],\n",
    "        df.len[df.dose == \"2.0\"])"
   ]
  },
  {
   "cell_type": "markdown",
   "metadata": {},
   "source": [
    "H0 : Les variances de chaque groupe sont égales si p-value > 5%\n",
    "<br> ~H1 : Les variances de chaque groupe ne sont pas toutes égales < 5%~"
   ]
  },
  {
   "cell_type": "markdown",
   "metadata": {},
   "source": [
    "#### On peut faire une ANOVA"
   ]
  },
  {
   "cell_type": "markdown",
   "metadata": {},
   "source": [
    "H0 : Les moyennes de chaque groupe sont égales si p-value > 5%\n",
    "<br> H1 : Les moyennes de chaque groupe ne sont pas toutes égales < 5%"
   ]
  },
  {
   "cell_type": "code",
   "execution_count": 50,
   "metadata": {},
   "outputs": [],
   "source": [
    "model = ols('len ~ supp + dose', data=df).fit()"
   ]
  },
  {
   "cell_type": "code",
   "execution_count": 51,
   "metadata": {},
   "outputs": [
    {
     "data": {
      "text/html": [
       "<div>\n",
       "<style scoped>\n",
       "    .dataframe tbody tr th:only-of-type {\n",
       "        vertical-align: middle;\n",
       "    }\n",
       "\n",
       "    .dataframe tbody tr th {\n",
       "        vertical-align: top;\n",
       "    }\n",
       "\n",
       "    .dataframe thead th {\n",
       "        text-align: right;\n",
       "    }\n",
       "</style>\n",
       "<table border=\"1\" class=\"dataframe\">\n",
       "  <thead>\n",
       "    <tr style=\"text-align: right;\">\n",
       "      <th></th>\n",
       "      <th>sum_sq</th>\n",
       "      <th>df</th>\n",
       "      <th>F</th>\n",
       "      <th>PR(&gt;F)</th>\n",
       "    </tr>\n",
       "  </thead>\n",
       "  <tbody>\n",
       "    <tr>\n",
       "      <th>supp</th>\n",
       "      <td>205.350000</td>\n",
       "      <td>1.0</td>\n",
       "      <td>14.016638</td>\n",
       "      <td>4.292793e-04</td>\n",
       "    </tr>\n",
       "    <tr>\n",
       "      <th>dose</th>\n",
       "      <td>2426.434333</td>\n",
       "      <td>2.0</td>\n",
       "      <td>82.810935</td>\n",
       "      <td>1.871163e-17</td>\n",
       "    </tr>\n",
       "    <tr>\n",
       "      <th>Residual</th>\n",
       "      <td>820.425000</td>\n",
       "      <td>56.0</td>\n",
       "      <td>NaN</td>\n",
       "      <td>NaN</td>\n",
       "    </tr>\n",
       "  </tbody>\n",
       "</table>\n",
       "</div>"
      ],
      "text/plain": [
       "               sum_sq    df          F        PR(>F)\n",
       "supp       205.350000   1.0  14.016638  4.292793e-04\n",
       "dose      2426.434333   2.0  82.810935  1.871163e-17\n",
       "Residual   820.425000  56.0        NaN           NaN"
      ]
     },
     "execution_count": 51,
     "metadata": {},
     "output_type": "execute_result"
    }
   ],
   "source": [
    "anova_table = sm.stats.anova_lm(model, typ=2)\n",
    "anova_table"
   ]
  },
  {
   "cell_type": "markdown",
   "metadata": {},
   "source": [
    "📢 Le principe de l'Anova à plusieurs facteurs c'est justement de pouvoir observer les intéractions entre les variables"
   ]
  },
  {
   "cell_type": "code",
   "execution_count": 52,
   "metadata": {},
   "outputs": [
    {
     "data": {
      "text/html": [
       "<div>\n",
       "<style scoped>\n",
       "    .dataframe tbody tr th:only-of-type {\n",
       "        vertical-align: middle;\n",
       "    }\n",
       "\n",
       "    .dataframe tbody tr th {\n",
       "        vertical-align: top;\n",
       "    }\n",
       "\n",
       "    .dataframe thead th {\n",
       "        text-align: right;\n",
       "    }\n",
       "</style>\n",
       "<table border=\"1\" class=\"dataframe\">\n",
       "  <thead>\n",
       "    <tr style=\"text-align: right;\">\n",
       "      <th></th>\n",
       "      <th>sum_sq</th>\n",
       "      <th>df</th>\n",
       "      <th>F</th>\n",
       "      <th>PR(&gt;F)</th>\n",
       "    </tr>\n",
       "  </thead>\n",
       "  <tbody>\n",
       "    <tr>\n",
       "      <th>supp</th>\n",
       "      <td>205.350000</td>\n",
       "      <td>1.0</td>\n",
       "      <td>15.571979</td>\n",
       "      <td>2.311828e-04</td>\n",
       "    </tr>\n",
       "    <tr>\n",
       "      <th>dose</th>\n",
       "      <td>2426.434333</td>\n",
       "      <td>2.0</td>\n",
       "      <td>91.999965</td>\n",
       "      <td>4.046291e-18</td>\n",
       "    </tr>\n",
       "    <tr>\n",
       "      <th>supp:dose</th>\n",
       "      <td>108.319000</td>\n",
       "      <td>2.0</td>\n",
       "      <td>4.106991</td>\n",
       "      <td>2.186027e-02</td>\n",
       "    </tr>\n",
       "    <tr>\n",
       "      <th>Residual</th>\n",
       "      <td>712.106000</td>\n",
       "      <td>54.0</td>\n",
       "      <td>NaN</td>\n",
       "      <td>NaN</td>\n",
       "    </tr>\n",
       "  </tbody>\n",
       "</table>\n",
       "</div>"
      ],
      "text/plain": [
       "                sum_sq    df          F        PR(>F)\n",
       "supp        205.350000   1.0  15.571979  2.311828e-04\n",
       "dose       2426.434333   2.0  91.999965  4.046291e-18\n",
       "supp:dose   108.319000   2.0   4.106991  2.186027e-02\n",
       "Residual    712.106000  54.0        NaN           NaN"
      ]
     },
     "execution_count": 52,
     "metadata": {},
     "output_type": "execute_result"
    }
   ],
   "source": [
    "model = ols('len ~ supp + dose + supp:dose', data=df).fit()\n",
    "\n",
    "anova_table = sm.stats.anova_lm(model, typ=2)\n",
    "anova_table"
   ]
  },
  {
   "cell_type": "markdown",
   "metadata": {},
   "source": [
    "📢 On voit donc qu'il existe une intéraction entre les deux variables. Pour mesurer quelles associations sont significativement différentes des autres, on peut utilise un test de Tukey qui consiste à faire des tests de comparaison de moyenne sur deux échantillon avec toutes les combinaisons d'association"
   ]
  },
  {
   "cell_type": "markdown",
   "metadata": {},
   "source": [
    "Pour cela, on crée une colonne avec les combinaisons des deux facteurs."
   ]
  },
  {
   "cell_type": "code",
   "execution_count": 53,
   "metadata": {},
   "outputs": [
    {
     "data": {
      "text/html": [
       "<div>\n",
       "<style scoped>\n",
       "    .dataframe tbody tr th:only-of-type {\n",
       "        vertical-align: middle;\n",
       "    }\n",
       "\n",
       "    .dataframe tbody tr th {\n",
       "        vertical-align: top;\n",
       "    }\n",
       "\n",
       "    .dataframe thead th {\n",
       "        text-align: right;\n",
       "    }\n",
       "</style>\n",
       "<table border=\"1\" class=\"dataframe\">\n",
       "  <thead>\n",
       "    <tr style=\"text-align: right;\">\n",
       "      <th></th>\n",
       "      <th>len</th>\n",
       "      <th>supp</th>\n",
       "      <th>dose</th>\n",
       "      <th>combinaison</th>\n",
       "    </tr>\n",
       "  </thead>\n",
       "  <tbody>\n",
       "    <tr>\n",
       "      <th>0</th>\n",
       "      <td>4.2</td>\n",
       "      <td>VC</td>\n",
       "      <td>0.5</td>\n",
       "      <td>VC-0.5</td>\n",
       "    </tr>\n",
       "    <tr>\n",
       "      <th>1</th>\n",
       "      <td>11.5</td>\n",
       "      <td>VC</td>\n",
       "      <td>0.5</td>\n",
       "      <td>VC-0.5</td>\n",
       "    </tr>\n",
       "    <tr>\n",
       "      <th>2</th>\n",
       "      <td>7.3</td>\n",
       "      <td>VC</td>\n",
       "      <td>0.5</td>\n",
       "      <td>VC-0.5</td>\n",
       "    </tr>\n",
       "  </tbody>\n",
       "</table>\n",
       "</div>"
      ],
      "text/plain": [
       "    len supp dose combinaison\n",
       "0   4.2   VC  0.5      VC-0.5\n",
       "1  11.5   VC  0.5      VC-0.5\n",
       "2   7.3   VC  0.5      VC-0.5"
      ]
     },
     "execution_count": 53,
     "metadata": {},
     "output_type": "execute_result"
    }
   ],
   "source": [
    "df['combinaison'] = df['supp'] + '-' + df['dose'].astype('str')\n",
    "df.head(3)"
   ]
  },
  {
   "cell_type": "code",
   "execution_count": 54,
   "metadata": {},
   "outputs": [
    {
     "name": "stdout",
     "output_type": "stream",
     "text": [
      " Multiple Comparison of Means - Tukey HSD, FWER=0.05  \n",
      "======================================================\n",
      "group1 group2 meandiff p-adj   lower    upper   reject\n",
      "------------------------------------------------------\n",
      "OJ-0.5 OJ-1.0     9.47  0.001   4.6719  14.2681   True\n",
      "OJ-0.5 OJ-2.0    12.83  0.001   8.0319  17.6281   True\n",
      "OJ-0.5 VC-0.5    -5.25 0.0243 -10.0481  -0.4519   True\n",
      "OJ-0.5 VC-1.0     3.54  0.264  -1.2581   8.3381  False\n",
      "OJ-0.5 VC-2.0    12.91  0.001   8.1119  17.7081   True\n",
      "OJ-1.0 OJ-2.0     3.36 0.3187  -1.4381   8.1581  False\n",
      "OJ-1.0 VC-0.5   -14.72  0.001 -19.5181  -9.9219   True\n",
      "OJ-1.0 VC-1.0    -5.93 0.0074 -10.7281  -1.1319   True\n",
      "OJ-1.0 VC-2.0     3.44 0.2937  -1.3581   8.2381  False\n",
      "OJ-2.0 VC-0.5   -18.08  0.001 -22.8781 -13.2819   True\n",
      "OJ-2.0 VC-1.0    -9.29  0.001 -14.0881  -4.4919   True\n",
      "OJ-2.0 VC-2.0     0.08    0.9  -4.7181   4.8781  False\n",
      "VC-0.5 VC-1.0     8.79  0.001   3.9919  13.5881   True\n",
      "VC-0.5 VC-2.0    18.16  0.001  13.3619  22.9581   True\n",
      "VC-1.0 VC-2.0     9.37  0.001   4.5719  14.1681   True\n",
      "------------------------------------------------------\n"
     ]
    }
   ],
   "source": [
    "import statsmodels.stats.multicomp as multi \n",
    "Results = multi.MultiComparison(df['len'], df['combinaison'])\n",
    "Results = Results.tukeyhsd()\n",
    "print(Results)"
   ]
  }
 ],
 "metadata": {
  "kernelspec": {
   "display_name": "Python 3",
   "language": "python",
   "name": "python3"
  },
  "language_info": {
   "codemirror_mode": {
    "name": "ipython",
    "version": 3
   },
   "file_extension": ".py",
   "mimetype": "text/x-python",
   "name": "python",
   "nbconvert_exporter": "python",
   "pygments_lexer": "ipython3",
   "version": "3.8.8"
  },
  "toc": {
   "base_numbering": 1,
   "nav_menu": {
    "height": "603px",
    "width": "443px"
   },
   "number_sections": true,
   "sideBar": true,
   "skip_h1_title": false,
   "title_cell": "Table of Contents",
   "title_sidebar": "Contents",
   "toc_cell": false,
   "toc_position": {},
   "toc_section_display": true,
   "toc_window_display": false
  },
  "toc-autonumbering": false,
  "toc-showcode": false,
  "toc-showmarkdowntxt": false
 },
 "nbformat": 4,
 "nbformat_minor": 4
}
